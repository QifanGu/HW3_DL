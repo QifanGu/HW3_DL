{
  "nbformat": 4,
  "nbformat_minor": 0,
  "metadata": {
    "colab": {
      "provenance": []
    },
    "kernelspec": {
      "name": "python3",
      "display_name": "Python 3"
    },
    "language_info": {
      "name": "python"
    }
  },
  "cells": [
    {
      "cell_type": "code",
      "execution_count": 1,
      "metadata": {
        "colab": {
          "base_uri": "https://localhost:8080/",
          "height": 206
        },
        "id": "vMi_j-kdaDXU",
        "outputId": "7ac4b8df-f5e3-450b-b2a3-9ffffb80f385"
      },
      "outputs": [
        {
          "output_type": "execute_result",
          "data": {
            "text/plain": [
              "         Date       Open       High        Low      Close  Adj Close    Volume\n",
              "0  2015-07-10  52.444000  52.599998  51.563999  51.830002  51.830002  13054500\n",
              "1  2015-07-13  52.450001  52.509998  51.209999  52.431999  52.431999  14801500\n",
              "2  2015-07-14  52.419998  53.198002  52.102001  53.130001  53.130001   9538000\n",
              "3  2015-07-15  53.348000  53.498001  52.416000  52.627998  52.627998  10108000\n",
              "4  2015-07-16  52.844002  53.439999  52.632000  53.335999  53.335999   8080000"
            ],
            "text/html": [
              "\n",
              "  <div id=\"df-fc3337b4-301a-4142-9a3b-7de05f59f09c\" class=\"colab-df-container\">\n",
              "    <div>\n",
              "<style scoped>\n",
              "    .dataframe tbody tr th:only-of-type {\n",
              "        vertical-align: middle;\n",
              "    }\n",
              "\n",
              "    .dataframe tbody tr th {\n",
              "        vertical-align: top;\n",
              "    }\n",
              "\n",
              "    .dataframe thead th {\n",
              "        text-align: right;\n",
              "    }\n",
              "</style>\n",
              "<table border=\"1\" class=\"dataframe\">\n",
              "  <thead>\n",
              "    <tr style=\"text-align: right;\">\n",
              "      <th></th>\n",
              "      <th>Date</th>\n",
              "      <th>Open</th>\n",
              "      <th>High</th>\n",
              "      <th>Low</th>\n",
              "      <th>Close</th>\n",
              "      <th>Adj Close</th>\n",
              "      <th>Volume</th>\n",
              "    </tr>\n",
              "  </thead>\n",
              "  <tbody>\n",
              "    <tr>\n",
              "      <th>0</th>\n",
              "      <td>2015-07-10</td>\n",
              "      <td>52.444000</td>\n",
              "      <td>52.599998</td>\n",
              "      <td>51.563999</td>\n",
              "      <td>51.830002</td>\n",
              "      <td>51.830002</td>\n",
              "      <td>13054500</td>\n",
              "    </tr>\n",
              "    <tr>\n",
              "      <th>1</th>\n",
              "      <td>2015-07-13</td>\n",
              "      <td>52.450001</td>\n",
              "      <td>52.509998</td>\n",
              "      <td>51.209999</td>\n",
              "      <td>52.431999</td>\n",
              "      <td>52.431999</td>\n",
              "      <td>14801500</td>\n",
              "    </tr>\n",
              "    <tr>\n",
              "      <th>2</th>\n",
              "      <td>2015-07-14</td>\n",
              "      <td>52.419998</td>\n",
              "      <td>53.198002</td>\n",
              "      <td>52.102001</td>\n",
              "      <td>53.130001</td>\n",
              "      <td>53.130001</td>\n",
              "      <td>9538000</td>\n",
              "    </tr>\n",
              "    <tr>\n",
              "      <th>3</th>\n",
              "      <td>2015-07-15</td>\n",
              "      <td>53.348000</td>\n",
              "      <td>53.498001</td>\n",
              "      <td>52.416000</td>\n",
              "      <td>52.627998</td>\n",
              "      <td>52.627998</td>\n",
              "      <td>10108000</td>\n",
              "    </tr>\n",
              "    <tr>\n",
              "      <th>4</th>\n",
              "      <td>2015-07-16</td>\n",
              "      <td>52.844002</td>\n",
              "      <td>53.439999</td>\n",
              "      <td>52.632000</td>\n",
              "      <td>53.335999</td>\n",
              "      <td>53.335999</td>\n",
              "      <td>8080000</td>\n",
              "    </tr>\n",
              "  </tbody>\n",
              "</table>\n",
              "</div>\n",
              "    <div class=\"colab-df-buttons\">\n",
              "\n",
              "  <div class=\"colab-df-container\">\n",
              "    <button class=\"colab-df-convert\" onclick=\"convertToInteractive('df-fc3337b4-301a-4142-9a3b-7de05f59f09c')\"\n",
              "            title=\"Convert this dataframe to an interactive table.\"\n",
              "            style=\"display:none;\">\n",
              "\n",
              "  <svg xmlns=\"http://www.w3.org/2000/svg\" height=\"24px\" viewBox=\"0 -960 960 960\">\n",
              "    <path d=\"M120-120v-720h720v720H120Zm60-500h600v-160H180v160Zm220 220h160v-160H400v160Zm0 220h160v-160H400v160ZM180-400h160v-160H180v160Zm440 0h160v-160H620v160ZM180-180h160v-160H180v160Zm440 0h160v-160H620v160Z\"/>\n",
              "  </svg>\n",
              "    </button>\n",
              "\n",
              "  <style>\n",
              "    .colab-df-container {\n",
              "      display:flex;\n",
              "      gap: 12px;\n",
              "    }\n",
              "\n",
              "    .colab-df-convert {\n",
              "      background-color: #E8F0FE;\n",
              "      border: none;\n",
              "      border-radius: 50%;\n",
              "      cursor: pointer;\n",
              "      display: none;\n",
              "      fill: #1967D2;\n",
              "      height: 32px;\n",
              "      padding: 0 0 0 0;\n",
              "      width: 32px;\n",
              "    }\n",
              "\n",
              "    .colab-df-convert:hover {\n",
              "      background-color: #E2EBFA;\n",
              "      box-shadow: 0px 1px 2px rgba(60, 64, 67, 0.3), 0px 1px 3px 1px rgba(60, 64, 67, 0.15);\n",
              "      fill: #174EA6;\n",
              "    }\n",
              "\n",
              "    .colab-df-buttons div {\n",
              "      margin-bottom: 4px;\n",
              "    }\n",
              "\n",
              "    [theme=dark] .colab-df-convert {\n",
              "      background-color: #3B4455;\n",
              "      fill: #D2E3FC;\n",
              "    }\n",
              "\n",
              "    [theme=dark] .colab-df-convert:hover {\n",
              "      background-color: #434B5C;\n",
              "      box-shadow: 0px 1px 3px 1px rgba(0, 0, 0, 0.15);\n",
              "      filter: drop-shadow(0px 1px 2px rgba(0, 0, 0, 0.3));\n",
              "      fill: #FFFFFF;\n",
              "    }\n",
              "  </style>\n",
              "\n",
              "    <script>\n",
              "      const buttonEl =\n",
              "        document.querySelector('#df-fc3337b4-301a-4142-9a3b-7de05f59f09c button.colab-df-convert');\n",
              "      buttonEl.style.display =\n",
              "        google.colab.kernel.accessAllowed ? 'block' : 'none';\n",
              "\n",
              "      async function convertToInteractive(key) {\n",
              "        const element = document.querySelector('#df-fc3337b4-301a-4142-9a3b-7de05f59f09c');\n",
              "        const dataTable =\n",
              "          await google.colab.kernel.invokeFunction('convertToInteractive',\n",
              "                                                    [key], {});\n",
              "        if (!dataTable) return;\n",
              "\n",
              "        const docLinkHtml = 'Like what you see? Visit the ' +\n",
              "          '<a target=\"_blank\" href=https://colab.research.google.com/notebooks/data_table.ipynb>data table notebook</a>'\n",
              "          + ' to learn more about interactive tables.';\n",
              "        element.innerHTML = '';\n",
              "        dataTable['output_type'] = 'display_data';\n",
              "        await google.colab.output.renderOutput(dataTable, element);\n",
              "        const docLink = document.createElement('div');\n",
              "        docLink.innerHTML = docLinkHtml;\n",
              "        element.appendChild(docLink);\n",
              "      }\n",
              "    </script>\n",
              "  </div>\n",
              "\n",
              "\n",
              "<div id=\"df-74d1de7e-7968-4af6-8cd3-b6c5f7ec167d\">\n",
              "  <button class=\"colab-df-quickchart\" onclick=\"quickchart('df-74d1de7e-7968-4af6-8cd3-b6c5f7ec167d')\"\n",
              "            title=\"Suggest charts.\"\n",
              "            style=\"display:none;\">\n",
              "\n",
              "<svg xmlns=\"http://www.w3.org/2000/svg\" height=\"24px\"viewBox=\"0 0 24 24\"\n",
              "     width=\"24px\">\n",
              "    <g>\n",
              "        <path d=\"M19 3H5c-1.1 0-2 .9-2 2v14c0 1.1.9 2 2 2h14c1.1 0 2-.9 2-2V5c0-1.1-.9-2-2-2zM9 17H7v-7h2v7zm4 0h-2V7h2v10zm4 0h-2v-4h2v4z\"/>\n",
              "    </g>\n",
              "</svg>\n",
              "  </button>\n",
              "\n",
              "<style>\n",
              "  .colab-df-quickchart {\n",
              "      --bg-color: #E8F0FE;\n",
              "      --fill-color: #1967D2;\n",
              "      --hover-bg-color: #E2EBFA;\n",
              "      --hover-fill-color: #174EA6;\n",
              "      --disabled-fill-color: #AAA;\n",
              "      --disabled-bg-color: #DDD;\n",
              "  }\n",
              "\n",
              "  [theme=dark] .colab-df-quickchart {\n",
              "      --bg-color: #3B4455;\n",
              "      --fill-color: #D2E3FC;\n",
              "      --hover-bg-color: #434B5C;\n",
              "      --hover-fill-color: #FFFFFF;\n",
              "      --disabled-bg-color: #3B4455;\n",
              "      --disabled-fill-color: #666;\n",
              "  }\n",
              "\n",
              "  .colab-df-quickchart {\n",
              "    background-color: var(--bg-color);\n",
              "    border: none;\n",
              "    border-radius: 50%;\n",
              "    cursor: pointer;\n",
              "    display: none;\n",
              "    fill: var(--fill-color);\n",
              "    height: 32px;\n",
              "    padding: 0;\n",
              "    width: 32px;\n",
              "  }\n",
              "\n",
              "  .colab-df-quickchart:hover {\n",
              "    background-color: var(--hover-bg-color);\n",
              "    box-shadow: 0 1px 2px rgba(60, 64, 67, 0.3), 0 1px 3px 1px rgba(60, 64, 67, 0.15);\n",
              "    fill: var(--button-hover-fill-color);\n",
              "  }\n",
              "\n",
              "  .colab-df-quickchart-complete:disabled,\n",
              "  .colab-df-quickchart-complete:disabled:hover {\n",
              "    background-color: var(--disabled-bg-color);\n",
              "    fill: var(--disabled-fill-color);\n",
              "    box-shadow: none;\n",
              "  }\n",
              "\n",
              "  .colab-df-spinner {\n",
              "    border: 2px solid var(--fill-color);\n",
              "    border-color: transparent;\n",
              "    border-bottom-color: var(--fill-color);\n",
              "    animation:\n",
              "      spin 1s steps(1) infinite;\n",
              "  }\n",
              "\n",
              "  @keyframes spin {\n",
              "    0% {\n",
              "      border-color: transparent;\n",
              "      border-bottom-color: var(--fill-color);\n",
              "      border-left-color: var(--fill-color);\n",
              "    }\n",
              "    20% {\n",
              "      border-color: transparent;\n",
              "      border-left-color: var(--fill-color);\n",
              "      border-top-color: var(--fill-color);\n",
              "    }\n",
              "    30% {\n",
              "      border-color: transparent;\n",
              "      border-left-color: var(--fill-color);\n",
              "      border-top-color: var(--fill-color);\n",
              "      border-right-color: var(--fill-color);\n",
              "    }\n",
              "    40% {\n",
              "      border-color: transparent;\n",
              "      border-right-color: var(--fill-color);\n",
              "      border-top-color: var(--fill-color);\n",
              "    }\n",
              "    60% {\n",
              "      border-color: transparent;\n",
              "      border-right-color: var(--fill-color);\n",
              "    }\n",
              "    80% {\n",
              "      border-color: transparent;\n",
              "      border-right-color: var(--fill-color);\n",
              "      border-bottom-color: var(--fill-color);\n",
              "    }\n",
              "    90% {\n",
              "      border-color: transparent;\n",
              "      border-bottom-color: var(--fill-color);\n",
              "    }\n",
              "  }\n",
              "</style>\n",
              "\n",
              "  <script>\n",
              "    async function quickchart(key) {\n",
              "      const quickchartButtonEl =\n",
              "        document.querySelector('#' + key + ' button');\n",
              "      quickchartButtonEl.disabled = true;  // To prevent multiple clicks.\n",
              "      quickchartButtonEl.classList.add('colab-df-spinner');\n",
              "      try {\n",
              "        const charts = await google.colab.kernel.invokeFunction(\n",
              "            'suggestCharts', [key], {});\n",
              "      } catch (error) {\n",
              "        console.error('Error during call to suggestCharts:', error);\n",
              "      }\n",
              "      quickchartButtonEl.classList.remove('colab-df-spinner');\n",
              "      quickchartButtonEl.classList.add('colab-df-quickchart-complete');\n",
              "    }\n",
              "    (() => {\n",
              "      let quickchartButtonEl =\n",
              "        document.querySelector('#df-74d1de7e-7968-4af6-8cd3-b6c5f7ec167d button');\n",
              "      quickchartButtonEl.style.display =\n",
              "        google.colab.kernel.accessAllowed ? 'block' : 'none';\n",
              "    })();\n",
              "  </script>\n",
              "</div>\n",
              "    </div>\n",
              "  </div>\n"
            ]
          },
          "metadata": {},
          "execution_count": 1
        }
      ],
      "source": [
        "import numpy as np\n",
        "import pandas as pd\n",
        "df = pd.read_csv('TSLA.csv')\n",
        "df.head()"
      ]
    },
    {
      "cell_type": "code",
      "source": [
        "print(type(df.Date[0]))\n",
        "print(df.shape,'\\n',df.iloc[1190]['Date'],'\\n')\n",
        "df.info()"
      ],
      "metadata": {
        "colab": {
          "base_uri": "https://localhost:8080/"
        },
        "id": "1zjk5qZOaXTC",
        "outputId": "1caf0252-473a-4d1b-e844-d39045957bc1"
      },
      "execution_count": 2,
      "outputs": [
        {
          "output_type": "stream",
          "name": "stdout",
          "text": [
            "<class 'str'>\n",
            "(1259, 7) \n",
            " 2020-04-01 \n",
            "\n",
            "<class 'pandas.core.frame.DataFrame'>\n",
            "RangeIndex: 1259 entries, 0 to 1258\n",
            "Data columns (total 7 columns):\n",
            " #   Column     Non-Null Count  Dtype  \n",
            "---  ------     --------------  -----  \n",
            " 0   Date       1259 non-null   object \n",
            " 1   Open       1259 non-null   float64\n",
            " 2   High       1259 non-null   float64\n",
            " 3   Low        1259 non-null   float64\n",
            " 4   Close      1259 non-null   float64\n",
            " 5   Adj Close  1259 non-null   float64\n",
            " 6   Volume     1259 non-null   int64  \n",
            "dtypes: float64(5), int64(1), object(1)\n",
            "memory usage: 69.0+ KB\n"
          ]
        }
      ]
    },
    {
      "cell_type": "code",
      "source": [
        "df.describe()"
      ],
      "metadata": {
        "colab": {
          "base_uri": "https://localhost:8080/",
          "height": 300
        },
        "id": "eKVAYm_halNr",
        "outputId": "d842cc3a-05cb-454b-8523-f7941c6e6249"
      },
      "execution_count": 3,
      "outputs": [
        {
          "output_type": "execute_result",
          "data": {
            "text/plain": [
              "              Open         High          Low        Close    Adj Close  \\\n",
              "count  1259.000000  1259.000000  1259.000000  1259.000000  1259.000000   \n",
              "mean     64.594124    65.883341    63.272302    64.642060    64.642060   \n",
              "std      33.400757    34.457933    32.308613    33.518742    33.518742   \n",
              "min      28.464001    30.993999    28.209999    28.733999    28.733999   \n",
              "25%      45.861999    46.425002    45.063001    45.887001    45.887001   \n",
              "50%      56.765999    57.888000    55.776001    56.945999    56.945999   \n",
              "75%      67.962001    69.039001    66.736000    67.790001    67.790001   \n",
              "max     281.002014   285.899994   270.256012   278.855988   278.855988   \n",
              "\n",
              "             Volume  \n",
              "count  1.259000e+03  \n",
              "mean   3.979012e+07  \n",
              "std    2.928062e+07  \n",
              "min    3.540000e+06  \n",
              "25%    2.158075e+07  \n",
              "50%    3.081300e+07  \n",
              "75%    4.658400e+07  \n",
              "max    3.046940e+08  "
            ],
            "text/html": [
              "\n",
              "  <div id=\"df-0e9543c0-6e58-4ac0-942b-18c8211dfb9d\" class=\"colab-df-container\">\n",
              "    <div>\n",
              "<style scoped>\n",
              "    .dataframe tbody tr th:only-of-type {\n",
              "        vertical-align: middle;\n",
              "    }\n",
              "\n",
              "    .dataframe tbody tr th {\n",
              "        vertical-align: top;\n",
              "    }\n",
              "\n",
              "    .dataframe thead th {\n",
              "        text-align: right;\n",
              "    }\n",
              "</style>\n",
              "<table border=\"1\" class=\"dataframe\">\n",
              "  <thead>\n",
              "    <tr style=\"text-align: right;\">\n",
              "      <th></th>\n",
              "      <th>Open</th>\n",
              "      <th>High</th>\n",
              "      <th>Low</th>\n",
              "      <th>Close</th>\n",
              "      <th>Adj Close</th>\n",
              "      <th>Volume</th>\n",
              "    </tr>\n",
              "  </thead>\n",
              "  <tbody>\n",
              "    <tr>\n",
              "      <th>count</th>\n",
              "      <td>1259.000000</td>\n",
              "      <td>1259.000000</td>\n",
              "      <td>1259.000000</td>\n",
              "      <td>1259.000000</td>\n",
              "      <td>1259.000000</td>\n",
              "      <td>1.259000e+03</td>\n",
              "    </tr>\n",
              "    <tr>\n",
              "      <th>mean</th>\n",
              "      <td>64.594124</td>\n",
              "      <td>65.883341</td>\n",
              "      <td>63.272302</td>\n",
              "      <td>64.642060</td>\n",
              "      <td>64.642060</td>\n",
              "      <td>3.979012e+07</td>\n",
              "    </tr>\n",
              "    <tr>\n",
              "      <th>std</th>\n",
              "      <td>33.400757</td>\n",
              "      <td>34.457933</td>\n",
              "      <td>32.308613</td>\n",
              "      <td>33.518742</td>\n",
              "      <td>33.518742</td>\n",
              "      <td>2.928062e+07</td>\n",
              "    </tr>\n",
              "    <tr>\n",
              "      <th>min</th>\n",
              "      <td>28.464001</td>\n",
              "      <td>30.993999</td>\n",
              "      <td>28.209999</td>\n",
              "      <td>28.733999</td>\n",
              "      <td>28.733999</td>\n",
              "      <td>3.540000e+06</td>\n",
              "    </tr>\n",
              "    <tr>\n",
              "      <th>25%</th>\n",
              "      <td>45.861999</td>\n",
              "      <td>46.425002</td>\n",
              "      <td>45.063001</td>\n",
              "      <td>45.887001</td>\n",
              "      <td>45.887001</td>\n",
              "      <td>2.158075e+07</td>\n",
              "    </tr>\n",
              "    <tr>\n",
              "      <th>50%</th>\n",
              "      <td>56.765999</td>\n",
              "      <td>57.888000</td>\n",
              "      <td>55.776001</td>\n",
              "      <td>56.945999</td>\n",
              "      <td>56.945999</td>\n",
              "      <td>3.081300e+07</td>\n",
              "    </tr>\n",
              "    <tr>\n",
              "      <th>75%</th>\n",
              "      <td>67.962001</td>\n",
              "      <td>69.039001</td>\n",
              "      <td>66.736000</td>\n",
              "      <td>67.790001</td>\n",
              "      <td>67.790001</td>\n",
              "      <td>4.658400e+07</td>\n",
              "    </tr>\n",
              "    <tr>\n",
              "      <th>max</th>\n",
              "      <td>281.002014</td>\n",
              "      <td>285.899994</td>\n",
              "      <td>270.256012</td>\n",
              "      <td>278.855988</td>\n",
              "      <td>278.855988</td>\n",
              "      <td>3.046940e+08</td>\n",
              "    </tr>\n",
              "  </tbody>\n",
              "</table>\n",
              "</div>\n",
              "    <div class=\"colab-df-buttons\">\n",
              "\n",
              "  <div class=\"colab-df-container\">\n",
              "    <button class=\"colab-df-convert\" onclick=\"convertToInteractive('df-0e9543c0-6e58-4ac0-942b-18c8211dfb9d')\"\n",
              "            title=\"Convert this dataframe to an interactive table.\"\n",
              "            style=\"display:none;\">\n",
              "\n",
              "  <svg xmlns=\"http://www.w3.org/2000/svg\" height=\"24px\" viewBox=\"0 -960 960 960\">\n",
              "    <path d=\"M120-120v-720h720v720H120Zm60-500h600v-160H180v160Zm220 220h160v-160H400v160Zm0 220h160v-160H400v160ZM180-400h160v-160H180v160Zm440 0h160v-160H620v160ZM180-180h160v-160H180v160Zm440 0h160v-160H620v160Z\"/>\n",
              "  </svg>\n",
              "    </button>\n",
              "\n",
              "  <style>\n",
              "    .colab-df-container {\n",
              "      display:flex;\n",
              "      gap: 12px;\n",
              "    }\n",
              "\n",
              "    .colab-df-convert {\n",
              "      background-color: #E8F0FE;\n",
              "      border: none;\n",
              "      border-radius: 50%;\n",
              "      cursor: pointer;\n",
              "      display: none;\n",
              "      fill: #1967D2;\n",
              "      height: 32px;\n",
              "      padding: 0 0 0 0;\n",
              "      width: 32px;\n",
              "    }\n",
              "\n",
              "    .colab-df-convert:hover {\n",
              "      background-color: #E2EBFA;\n",
              "      box-shadow: 0px 1px 2px rgba(60, 64, 67, 0.3), 0px 1px 3px 1px rgba(60, 64, 67, 0.15);\n",
              "      fill: #174EA6;\n",
              "    }\n",
              "\n",
              "    .colab-df-buttons div {\n",
              "      margin-bottom: 4px;\n",
              "    }\n",
              "\n",
              "    [theme=dark] .colab-df-convert {\n",
              "      background-color: #3B4455;\n",
              "      fill: #D2E3FC;\n",
              "    }\n",
              "\n",
              "    [theme=dark] .colab-df-convert:hover {\n",
              "      background-color: #434B5C;\n",
              "      box-shadow: 0px 1px 3px 1px rgba(0, 0, 0, 0.15);\n",
              "      filter: drop-shadow(0px 1px 2px rgba(0, 0, 0, 0.3));\n",
              "      fill: #FFFFFF;\n",
              "    }\n",
              "  </style>\n",
              "\n",
              "    <script>\n",
              "      const buttonEl =\n",
              "        document.querySelector('#df-0e9543c0-6e58-4ac0-942b-18c8211dfb9d button.colab-df-convert');\n",
              "      buttonEl.style.display =\n",
              "        google.colab.kernel.accessAllowed ? 'block' : 'none';\n",
              "\n",
              "      async function convertToInteractive(key) {\n",
              "        const element = document.querySelector('#df-0e9543c0-6e58-4ac0-942b-18c8211dfb9d');\n",
              "        const dataTable =\n",
              "          await google.colab.kernel.invokeFunction('convertToInteractive',\n",
              "                                                    [key], {});\n",
              "        if (!dataTable) return;\n",
              "\n",
              "        const docLinkHtml = 'Like what you see? Visit the ' +\n",
              "          '<a target=\"_blank\" href=https://colab.research.google.com/notebooks/data_table.ipynb>data table notebook</a>'\n",
              "          + ' to learn more about interactive tables.';\n",
              "        element.innerHTML = '';\n",
              "        dataTable['output_type'] = 'display_data';\n",
              "        await google.colab.output.renderOutput(dataTable, element);\n",
              "        const docLink = document.createElement('div');\n",
              "        docLink.innerHTML = docLinkHtml;\n",
              "        element.appendChild(docLink);\n",
              "      }\n",
              "    </script>\n",
              "  </div>\n",
              "\n",
              "\n",
              "<div id=\"df-d12e3d90-6e70-4504-9455-6d8c95af95dc\">\n",
              "  <button class=\"colab-df-quickchart\" onclick=\"quickchart('df-d12e3d90-6e70-4504-9455-6d8c95af95dc')\"\n",
              "            title=\"Suggest charts.\"\n",
              "            style=\"display:none;\">\n",
              "\n",
              "<svg xmlns=\"http://www.w3.org/2000/svg\" height=\"24px\"viewBox=\"0 0 24 24\"\n",
              "     width=\"24px\">\n",
              "    <g>\n",
              "        <path d=\"M19 3H5c-1.1 0-2 .9-2 2v14c0 1.1.9 2 2 2h14c1.1 0 2-.9 2-2V5c0-1.1-.9-2-2-2zM9 17H7v-7h2v7zm4 0h-2V7h2v10zm4 0h-2v-4h2v4z\"/>\n",
              "    </g>\n",
              "</svg>\n",
              "  </button>\n",
              "\n",
              "<style>\n",
              "  .colab-df-quickchart {\n",
              "      --bg-color: #E8F0FE;\n",
              "      --fill-color: #1967D2;\n",
              "      --hover-bg-color: #E2EBFA;\n",
              "      --hover-fill-color: #174EA6;\n",
              "      --disabled-fill-color: #AAA;\n",
              "      --disabled-bg-color: #DDD;\n",
              "  }\n",
              "\n",
              "  [theme=dark] .colab-df-quickchart {\n",
              "      --bg-color: #3B4455;\n",
              "      --fill-color: #D2E3FC;\n",
              "      --hover-bg-color: #434B5C;\n",
              "      --hover-fill-color: #FFFFFF;\n",
              "      --disabled-bg-color: #3B4455;\n",
              "      --disabled-fill-color: #666;\n",
              "  }\n",
              "\n",
              "  .colab-df-quickchart {\n",
              "    background-color: var(--bg-color);\n",
              "    border: none;\n",
              "    border-radius: 50%;\n",
              "    cursor: pointer;\n",
              "    display: none;\n",
              "    fill: var(--fill-color);\n",
              "    height: 32px;\n",
              "    padding: 0;\n",
              "    width: 32px;\n",
              "  }\n",
              "\n",
              "  .colab-df-quickchart:hover {\n",
              "    background-color: var(--hover-bg-color);\n",
              "    box-shadow: 0 1px 2px rgba(60, 64, 67, 0.3), 0 1px 3px 1px rgba(60, 64, 67, 0.15);\n",
              "    fill: var(--button-hover-fill-color);\n",
              "  }\n",
              "\n",
              "  .colab-df-quickchart-complete:disabled,\n",
              "  .colab-df-quickchart-complete:disabled:hover {\n",
              "    background-color: var(--disabled-bg-color);\n",
              "    fill: var(--disabled-fill-color);\n",
              "    box-shadow: none;\n",
              "  }\n",
              "\n",
              "  .colab-df-spinner {\n",
              "    border: 2px solid var(--fill-color);\n",
              "    border-color: transparent;\n",
              "    border-bottom-color: var(--fill-color);\n",
              "    animation:\n",
              "      spin 1s steps(1) infinite;\n",
              "  }\n",
              "\n",
              "  @keyframes spin {\n",
              "    0% {\n",
              "      border-color: transparent;\n",
              "      border-bottom-color: var(--fill-color);\n",
              "      border-left-color: var(--fill-color);\n",
              "    }\n",
              "    20% {\n",
              "      border-color: transparent;\n",
              "      border-left-color: var(--fill-color);\n",
              "      border-top-color: var(--fill-color);\n",
              "    }\n",
              "    30% {\n",
              "      border-color: transparent;\n",
              "      border-left-color: var(--fill-color);\n",
              "      border-top-color: var(--fill-color);\n",
              "      border-right-color: var(--fill-color);\n",
              "    }\n",
              "    40% {\n",
              "      border-color: transparent;\n",
              "      border-right-color: var(--fill-color);\n",
              "      border-top-color: var(--fill-color);\n",
              "    }\n",
              "    60% {\n",
              "      border-color: transparent;\n",
              "      border-right-color: var(--fill-color);\n",
              "    }\n",
              "    80% {\n",
              "      border-color: transparent;\n",
              "      border-right-color: var(--fill-color);\n",
              "      border-bottom-color: var(--fill-color);\n",
              "    }\n",
              "    90% {\n",
              "      border-color: transparent;\n",
              "      border-bottom-color: var(--fill-color);\n",
              "    }\n",
              "  }\n",
              "</style>\n",
              "\n",
              "  <script>\n",
              "    async function quickchart(key) {\n",
              "      const quickchartButtonEl =\n",
              "        document.querySelector('#' + key + ' button');\n",
              "      quickchartButtonEl.disabled = true;  // To prevent multiple clicks.\n",
              "      quickchartButtonEl.classList.add('colab-df-spinner');\n",
              "      try {\n",
              "        const charts = await google.colab.kernel.invokeFunction(\n",
              "            'suggestCharts', [key], {});\n",
              "      } catch (error) {\n",
              "        console.error('Error during call to suggestCharts:', error);\n",
              "      }\n",
              "      quickchartButtonEl.classList.remove('colab-df-spinner');\n",
              "      quickchartButtonEl.classList.add('colab-df-quickchart-complete');\n",
              "    }\n",
              "    (() => {\n",
              "      let quickchartButtonEl =\n",
              "        document.querySelector('#df-d12e3d90-6e70-4504-9455-6d8c95af95dc button');\n",
              "      quickchartButtonEl.style.display =\n",
              "        google.colab.kernel.accessAllowed ? 'block' : 'none';\n",
              "    })();\n",
              "  </script>\n",
              "</div>\n",
              "    </div>\n",
              "  </div>\n"
            ]
          },
          "metadata": {},
          "execution_count": 3
        }
      ]
    },
    {
      "cell_type": "code",
      "source": [
        "dataframe = df['Close']\n",
        "dataset = dataframe.values\n",
        "dataframe.head(10)"
      ],
      "metadata": {
        "colab": {
          "base_uri": "https://localhost:8080/"
        },
        "id": "ZnxRnLBK9wsl",
        "outputId": "4da62ff4-3bd8-49e5-e88b-8e7ad3a2b78e"
      },
      "execution_count": 4,
      "outputs": [
        {
          "output_type": "execute_result",
          "data": {
            "text/plain": [
              "0    51.830002\n",
              "1    52.431999\n",
              "2    53.130001\n",
              "3    52.627998\n",
              "4    53.335999\n",
              "5    54.931999\n",
              "6    56.452000\n",
              "7    53.354000\n",
              "8    53.574001\n",
              "9    53.439999\n",
              "Name: Close, dtype: float64"
            ]
          },
          "metadata": {},
          "execution_count": 4
        }
      ]
    },
    {
      "cell_type": "code",
      "source": [
        "import numpy as np\n",
        "import matplotlib.pyplot as plt\n",
        "import pandas as pd\n",
        "import math\n",
        "from keras.models import Sequential\n",
        "from keras.layers import Dense, Activation, Dropout, LSTM\n",
        "from sklearn.preprocessing import MinMaxScaler\n",
        "from sklearn.metrics import mean_squared_error\n",
        "from keras import optimizers\n",
        "import time"
      ],
      "metadata": {
        "id": "YCOrWvasIKSz"
      },
      "execution_count": 5,
      "outputs": []
    },
    {
      "cell_type": "code",
      "source": [
        "# The data is normalized to the range 0-1, and finally converted into a column vector\n",
        "scaler = MinMaxScaler(feature_range=(0, 1))\n",
        "dataset = scaler.fit_transform(dataset.reshape(-1, 1))\n",
        "# print(dataset)"
      ],
      "metadata": {
        "id": "NbImlqdn_KqI"
      },
      "execution_count": 6,
      "outputs": []
    },
    {
      "cell_type": "code",
      "source": [
        "# Split the data\n",
        "train_size = 1191\n",
        "test_size = len(dataset)-1191\n",
        "train, test = dataset[0: train_size], dataset[train_size: len(dataset)]"
      ],
      "metadata": {
        "id": "Jhm1SDwyz9FY"
      },
      "execution_count": 7,
      "outputs": []
    },
    {
      "cell_type": "code",
      "source": [
        "lag_1 = 1\n",
        "lag_7 = 7\n",
        "lag_14 = 14"
      ],
      "metadata": {
        "id": "-dl2xnePiESe"
      },
      "execution_count": 20,
      "outputs": []
    },
    {
      "cell_type": "code",
      "source": [
        "def creat_dataset(dataset, look_back=1):\n",
        "    dataX, dataY = [], []\n",
        "    for i in range(len(dataset)-look_back-1):\n",
        "        a = dataset[i: (i+look_back)]\n",
        "        dataX.append(a)\n",
        "        dataY.append(dataset[i+look_back])\n",
        "    return np.array(dataX), np.array(dataY)"
      ],
      "metadata": {
        "id": "gIA1_TiE6VSh"
      },
      "execution_count": 8,
      "outputs": []
    },
    {
      "cell_type": "code",
      "source": [
        "look_back = 7\n",
        "trainX, trainY = creat_dataset(train, look_back)\n",
        "testX, testY = creat_dataset(test, look_back)\n",
        "print(trainX.shape)"
      ],
      "metadata": {
        "colab": {
          "base_uri": "https://localhost:8080/"
        },
        "id": "cxuu2W-pz93X",
        "outputId": "241ee218-b58e-42d9-9610-f081f71f730d"
      },
      "execution_count": 9,
      "outputs": [
        {
          "output_type": "stream",
          "name": "stdout",
          "text": [
            "(1183, 7, 1)\n"
          ]
        }
      ]
    },
    {
      "cell_type": "code",
      "source": [
        "#build the model\n",
        "\n",
        "model = Sequential()\n",
        "model.add(LSTM(units=50,input_shape=(trainX.shape[1], 1),return_sequences=True))\n",
        "#model.add(Dropout(0.2))\n",
        "model.add(LSTM(50, return_sequences=True))\n",
        "#model.add(Dropout(0.2))\n",
        "model.add(LSTM(100, return_sequences=True))\n",
        "#model.add(Dropout(0.2))\n",
        "model.add(LSTM(300, return_sequences=False))\n",
        "model.add(Dropout(0.2))\n",
        "model.add(Dense(100))\n",
        "model.add(Dense(1, activation='relu'))\n",
        "model.compile(loss='mean_squared_error', optimizer='Adam')\n",
        "model.summary()"
      ],
      "metadata": {
        "colab": {
          "base_uri": "https://localhost:8080/"
        },
        "id": "zCVjWq6vz_71",
        "outputId": "31983b43-1de1-4397-e80a-f3be4b43d12a"
      },
      "execution_count": 10,
      "outputs": [
        {
          "output_type": "stream",
          "name": "stdout",
          "text": [
            "Model: \"sequential\"\n",
            "_________________________________________________________________\n",
            " Layer (type)                Output Shape              Param #   \n",
            "=================================================================\n",
            " lstm (LSTM)                 (None, 7, 50)             10400     \n",
            "                                                                 \n",
            " lstm_1 (LSTM)               (None, 7, 50)             20200     \n",
            "                                                                 \n",
            " lstm_2 (LSTM)               (None, 7, 100)            60400     \n",
            "                                                                 \n",
            " lstm_3 (LSTM)               (None, 300)               481200    \n",
            "                                                                 \n",
            " dropout (Dropout)           (None, 300)               0         \n",
            "                                                                 \n",
            " dense (Dense)               (None, 100)               30100     \n",
            "                                                                 \n",
            " dense_1 (Dense)             (None, 1)                 101       \n",
            "                                                                 \n",
            "=================================================================\n",
            "Total params: 602401 (2.30 MB)\n",
            "Trainable params: 602401 (2.30 MB)\n",
            "Non-trainable params: 0 (0.00 Byte)\n",
            "_________________________________________________________________\n"
          ]
        }
      ]
    },
    {
      "cell_type": "code",
      "source": [
        "history = model.fit(trainX, trainY, batch_size=64, epochs=50, validation_split=0.1, verbose=2)"
      ],
      "metadata": {
        "colab": {
          "base_uri": "https://localhost:8080/"
        },
        "id": "nsdWqr_90VHU",
        "outputId": "6c50b984-5604-4de0-8085-6925dafd31eb"
      },
      "execution_count": 45,
      "outputs": [
        {
          "output_type": "stream",
          "name": "stdout",
          "text": [
            "Epoch 1/50\n",
            "17/17 - 9s - loss: 0.0033 - val_loss: 0.0403 - 9s/epoch - 522ms/step\n",
            "Epoch 2/50\n",
            "17/17 - 0s - loss: 0.0018 - val_loss: 0.0354 - 226ms/epoch - 13ms/step\n",
            "Epoch 3/50\n",
            "17/17 - 0s - loss: 7.1720e-04 - val_loss: 0.0046 - 226ms/epoch - 13ms/step\n",
            "Epoch 4/50\n",
            "17/17 - 0s - loss: 2.4457e-04 - val_loss: 0.0044 - 240ms/epoch - 14ms/step\n",
            "Epoch 5/50\n",
            "17/17 - 0s - loss: 2.1115e-04 - val_loss: 0.0043 - 249ms/epoch - 15ms/step\n",
            "Epoch 6/50\n",
            "17/17 - 0s - loss: 1.8358e-04 - val_loss: 0.0044 - 189ms/epoch - 11ms/step\n",
            "Epoch 7/50\n",
            "17/17 - 0s - loss: 1.8801e-04 - val_loss: 0.0042 - 179ms/epoch - 11ms/step\n",
            "Epoch 8/50\n",
            "17/17 - 0s - loss: 2.1264e-04 - val_loss: 0.0041 - 183ms/epoch - 11ms/step\n",
            "Epoch 9/50\n",
            "17/17 - 0s - loss: 1.9471e-04 - val_loss: 0.0040 - 184ms/epoch - 11ms/step\n",
            "Epoch 10/50\n",
            "17/17 - 0s - loss: 1.8828e-04 - val_loss: 0.0040 - 176ms/epoch - 10ms/step\n",
            "Epoch 11/50\n",
            "17/17 - 0s - loss: 1.8049e-04 - val_loss: 0.0040 - 168ms/epoch - 10ms/step\n",
            "Epoch 12/50\n",
            "17/17 - 0s - loss: 1.8104e-04 - val_loss: 0.0040 - 186ms/epoch - 11ms/step\n",
            "Epoch 13/50\n",
            "17/17 - 0s - loss: 1.8005e-04 - val_loss: 0.0044 - 178ms/epoch - 10ms/step\n",
            "Epoch 14/50\n",
            "17/17 - 0s - loss: 1.7665e-04 - val_loss: 0.0044 - 184ms/epoch - 11ms/step\n",
            "Epoch 15/50\n",
            "17/17 - 0s - loss: 1.8041e-04 - val_loss: 0.0042 - 161ms/epoch - 9ms/step\n",
            "Epoch 16/50\n",
            "17/17 - 0s - loss: 1.9296e-04 - val_loss: 0.0039 - 177ms/epoch - 10ms/step\n",
            "Epoch 17/50\n",
            "17/17 - 0s - loss: 1.8770e-04 - val_loss: 0.0038 - 167ms/epoch - 10ms/step\n",
            "Epoch 18/50\n",
            "17/17 - 0s - loss: 1.7211e-04 - val_loss: 0.0039 - 182ms/epoch - 11ms/step\n",
            "Epoch 19/50\n",
            "17/17 - 0s - loss: 1.8246e-04 - val_loss: 0.0035 - 171ms/epoch - 10ms/step\n",
            "Epoch 20/50\n",
            "17/17 - 0s - loss: 2.4044e-04 - val_loss: 0.0040 - 182ms/epoch - 11ms/step\n",
            "Epoch 21/50\n",
            "17/17 - 0s - loss: 1.7558e-04 - val_loss: 0.0036 - 168ms/epoch - 10ms/step\n",
            "Epoch 22/50\n",
            "17/17 - 0s - loss: 1.6436e-04 - val_loss: 0.0038 - 179ms/epoch - 11ms/step\n",
            "Epoch 23/50\n",
            "17/17 - 0s - loss: 1.5912e-04 - val_loss: 0.0035 - 186ms/epoch - 11ms/step\n",
            "Epoch 24/50\n",
            "17/17 - 0s - loss: 1.6017e-04 - val_loss: 0.0038 - 174ms/epoch - 10ms/step\n",
            "Epoch 25/50\n",
            "17/17 - 0s - loss: 1.6345e-04 - val_loss: 0.0034 - 176ms/epoch - 10ms/step\n",
            "Epoch 26/50\n",
            "17/17 - 0s - loss: 1.6033e-04 - val_loss: 0.0032 - 173ms/epoch - 10ms/step\n",
            "Epoch 27/50\n",
            "17/17 - 0s - loss: 1.5964e-04 - val_loss: 0.0031 - 179ms/epoch - 11ms/step\n",
            "Epoch 28/50\n",
            "17/17 - 0s - loss: 1.4700e-04 - val_loss: 0.0032 - 170ms/epoch - 10ms/step\n",
            "Epoch 29/50\n",
            "17/17 - 0s - loss: 1.4143e-04 - val_loss: 0.0031 - 169ms/epoch - 10ms/step\n",
            "Epoch 30/50\n",
            "17/17 - 0s - loss: 1.3560e-04 - val_loss: 0.0028 - 185ms/epoch - 11ms/step\n",
            "Epoch 31/50\n",
            "17/17 - 0s - loss: 1.5035e-04 - val_loss: 0.0028 - 181ms/epoch - 11ms/step\n",
            "Epoch 32/50\n",
            "17/17 - 0s - loss: 1.4076e-04 - val_loss: 0.0037 - 167ms/epoch - 10ms/step\n",
            "Epoch 33/50\n",
            "17/17 - 0s - loss: 1.6623e-04 - val_loss: 0.0029 - 185ms/epoch - 11ms/step\n",
            "Epoch 34/50\n",
            "17/17 - 0s - loss: 1.4606e-04 - val_loss: 0.0027 - 166ms/epoch - 10ms/step\n",
            "Epoch 35/50\n",
            "17/17 - 0s - loss: 1.2440e-04 - val_loss: 0.0024 - 170ms/epoch - 10ms/step\n",
            "Epoch 36/50\n",
            "17/17 - 0s - loss: 1.1679e-04 - val_loss: 0.0023 - 165ms/epoch - 10ms/step\n",
            "Epoch 37/50\n",
            "17/17 - 0s - loss: 1.2510e-04 - val_loss: 0.0021 - 171ms/epoch - 10ms/step\n",
            "Epoch 38/50\n",
            "17/17 - 0s - loss: 1.0844e-04 - val_loss: 0.0021 - 165ms/epoch - 10ms/step\n",
            "Epoch 39/50\n",
            "17/17 - 0s - loss: 1.2509e-04 - val_loss: 0.0022 - 164ms/epoch - 10ms/step\n",
            "Epoch 40/50\n",
            "17/17 - 0s - loss: 1.2581e-04 - val_loss: 0.0020 - 173ms/epoch - 10ms/step\n",
            "Epoch 41/50\n",
            "17/17 - 0s - loss: 1.0395e-04 - val_loss: 0.0019 - 185ms/epoch - 11ms/step\n",
            "Epoch 42/50\n",
            "17/17 - 0s - loss: 1.0174e-04 - val_loss: 0.0019 - 181ms/epoch - 11ms/step\n",
            "Epoch 43/50\n",
            "17/17 - 0s - loss: 9.5184e-05 - val_loss: 0.0021 - 179ms/epoch - 11ms/step\n",
            "Epoch 44/50\n",
            "17/17 - 0s - loss: 9.7357e-05 - val_loss: 0.0016 - 188ms/epoch - 11ms/step\n",
            "Epoch 45/50\n",
            "17/17 - 0s - loss: 8.8133e-05 - val_loss: 0.0016 - 161ms/epoch - 9ms/step\n",
            "Epoch 46/50\n",
            "17/17 - 0s - loss: 8.4591e-05 - val_loss: 0.0016 - 180ms/epoch - 11ms/step\n",
            "Epoch 47/50\n",
            "17/17 - 0s - loss: 8.8354e-05 - val_loss: 0.0015 - 184ms/epoch - 11ms/step\n",
            "Epoch 48/50\n",
            "17/17 - 0s - loss: 9.0356e-05 - val_loss: 0.0017 - 159ms/epoch - 9ms/step\n",
            "Epoch 49/50\n",
            "17/17 - 0s - loss: 8.2307e-05 - val_loss: 0.0014 - 169ms/epoch - 10ms/step\n",
            "Epoch 50/50\n",
            "17/17 - 0s - loss: 7.5490e-05 - val_loss: 0.0017 - 173ms/epoch - 10ms/step\n"
          ]
        }
      ]
    },
    {
      "cell_type": "code",
      "source": [
        "trainPredict = model.predict(trainX)\n",
        "testPredict = model.predict(testX)"
      ],
      "metadata": {
        "colab": {
          "base_uri": "https://localhost:8080/"
        },
        "id": "FhDL3Ss13sRT",
        "outputId": "e3797f2c-e783-4739-8c64-b387a9f82302"
      },
      "execution_count": 46,
      "outputs": [
        {
          "output_type": "stream",
          "name": "stdout",
          "text": [
            "37/37 [==============================] - 2s 5ms/step\n",
            "2/2 [==============================] - 0s 9ms/step\n"
          ]
        }
      ]
    },
    {
      "cell_type": "code",
      "source": [
        "# Denormalize to restore the original data range\n",
        "trainPredict = scaler.inverse_transform(trainPredict)\n",
        "trainY = scaler.inverse_transform(trainY)\n",
        "testPredict = scaler.inverse_transform(testPredict)\n",
        "testY = scaler.inverse_transform(testY)"
      ],
      "metadata": {
        "id": "t6r_3lIW3tn5"
      },
      "execution_count": 47,
      "outputs": []
    },
    {
      "cell_type": "code",
      "source": [
        "trainScore = math.sqrt(mean_squared_error(trainY, trainPredict[:, 0]))\n",
        "print('Train Sccore %.2f RMSE' %(trainScore))\n",
        "testScore = math.sqrt(mean_squared_error(testY, testPredict[:, 0]))\n",
        "print('Train Sccore %.2f RMSE' %(testScore))\n",
        "dropout_nodrop_64 = [trainScore,testScore]"
      ],
      "metadata": {
        "colab": {
          "base_uri": "https://localhost:8080/"
        },
        "id": "Jg4mh57T3v8v",
        "outputId": "8e111ee3-34ec-44f5-93b3-a4e7cb9d8b55"
      },
      "execution_count": 48,
      "outputs": [
        {
          "output_type": "stream",
          "name": "stdout",
          "text": [
            "Train Sccore 3.87 RMSE\n",
            "Train Sccore 22.57 RMSE\n"
          ]
        }
      ]
    },
    {
      "cell_type": "code",
      "source": [
        "# Create a NumPy array trainPredictPlot of the same shape as the original dataset dataset and fill it with the model's training predictions trainPredict .\n",
        "trainPredictPlot = np.empty_like(dataset)\n",
        "trainPredictPlot[:] = np.nan\n",
        "trainPredictPlot = np.reshape(trainPredictPlot, (dataset.shape[0], 1))\n",
        "trainPredictPlot[look_back: len(trainPredict)+look_back, :] = trainPredict\n",
        "# print(trainPredictPlot.shape,trainPredictPlot[look_back-2: look_back+3, :])"
      ],
      "metadata": {
        "colab": {
          "base_uri": "https://localhost:8080/"
        },
        "id": "h6wPyr0f4GIy",
        "outputId": "7a96b3a1-2a6c-4a38-e08d-6b32dd0e3dcd"
      },
      "execution_count": 49,
      "outputs": [
        {
          "output_type": "stream",
          "name": "stdout",
          "text": [
            "(1259, 1) [[        nan]\n",
            " [        nan]\n",
            " [55.54469681]\n",
            " [55.76024246]\n",
            " [55.25317383]]\n"
          ]
        }
      ]
    },
    {
      "cell_type": "code",
      "source": [
        "testPredictPlot = np.empty_like(dataset)\n",
        "testPredictPlot[:] = np.nan\n",
        "testPredictPlot = np.reshape(testPredictPlot, (dataset.shape[0], 1))\n",
        "testPredictPlot[len(trainPredict)+(look_back*2)+1: len(dataset)-1, :] = testPredict"
      ],
      "metadata": {
        "id": "x7k4Bsyz4MY1"
      },
      "execution_count": 50,
      "outputs": []
    },
    {
      "cell_type": "code",
      "source": [
        "fig1 = plt.figure(figsize=(12, 8))\n",
        "plt.plot(history.history['loss'])\n",
        "plt.title('model loss')\n",
        "plt.ylabel('loss')\n",
        "plt.xlabel('epoch')\n",
        "plt.show()"
      ],
      "metadata": {
        "colab": {
          "base_uri": "https://localhost:8080/",
          "height": 661
        },
        "id": "_Gme0CvM4OTp",
        "outputId": "bf8c7ce7-2484-4541-caae-c192d0288d6d"
      },
      "execution_count": 51,
      "outputs": [
        {
          "output_type": "display_data",
          "data": {
            "text/plain": [
              "<Figure size 1200x800 with 1 Axes>"
            ],
            "image/png": "[encoded data removed]"
          },
          "metadata": {}
        }
      ]
    },
    {
      "cell_type": "code",
      "source": [
        "fig2 = plt.figure(figsize=(20, 15))\n",
        "plt.plot(scaler.inverse_transform(dataset))\n",
        "plt.plot(trainPredictPlot,label='trainPredictPlot')\n",
        "plt.plot(testPredictPlot,label='testPredictPlot')\n",
        "plt.legend()\n",
        "plt.ylabel('price')\n",
        "plt.xlabel('date')\n",
        "plt.show()"
      ],
      "metadata": {
        "colab": {
          "base_uri": "https://localhost:8080/",
          "height": 724
        },
        "id": "Son6YNIU4RUT",
        "outputId": "befeee42-08cf-4b65-abbe-72f5a9da6a7a"
      },
      "execution_count": 52,
      "outputs": [
        {
          "output_type": "display_data",
          "data": {
            "text/plain": [
              "<Figure size 2000x1500 with 1 Axes>"
            ],
            "image/png": "[encoded data removed]"
          },
          "metadata": {}
        }
      ]
    },
    {
      "cell_type": "code",
      "source": [
        "dataset = dataframe.values\n",
        "scaler = MinMaxScaler(feature_range=(0, 1))\n",
        "dataset = scaler.fit_transform(dataset.reshape(-1, 1))\n",
        "train_size = 1191\n",
        "test_size = len(dataset)-1191\n",
        "train, test = dataset[0: train_size], dataset[train_size: len(dataset)]\n",
        "trainX, trainY = creat_dataset(train, look_back)\n",
        "testX, testY = creat_dataset(test, look_back)\n",
        "# print(trainX.shape)\n",
        "model = Sequential()\n",
        "model.add(LSTM(units=50,input_shape=(trainX.shape[1], 1),return_sequences=True))\n",
        "model.add(Dropout(0.2))\n",
        "model.add(LSTM(50, return_sequences=True))\n",
        "model.add(Dropout(0.2))\n",
        "model.add(LSTM(100, return_sequences=True))\n",
        "model.add(Dropout(0.2))\n",
        "model.add(LSTM(300, return_sequences=False))\n",
        "model.add(Dropout(0.2))\n",
        "model.add(Dense(100))\n",
        "model.add(Dense(1, activation='relu'))\n",
        "model.compile(loss='mean_squared_error', optimizer='Adam')\n",
        "# model.summary()\n",
        "history = model.fit(trainX, trainY, batch_size=64, epochs=50, validation_split=0.1, verbose=2)\n",
        "trainPredict = model.predict(trainX)\n",
        "testPredict = model.predict(testX)\n",
        "trainPredict = scaler.inverse_transform(trainPredict)\n",
        "trainY = scaler.inverse_transform(trainY)\n",
        "testPredict = scaler.inverse_transform(testPredict)\n",
        "testY = scaler.inverse_transform(testY)\n",
        "trainScore = math.sqrt(mean_squared_error(trainY, trainPredict[:, 0]))\n",
        "print('Train Sccore %.2f RMSE' %(trainScore))\n",
        "testScore = math.sqrt(mean_squared_error(testY, testPredict[:, 0]))\n",
        "print('Train Sccore %.2f RMSE' %(testScore))\n",
        "\n",
        "trainPredict_final =  testPredict\n",
        "RMSE_drop_64 = [trainScore,testScore]\n"
      ],
      "metadata": {
        "colab": {
          "base_uri": "https://localhost:8080/"
        },
        "id": "3owSMfJl4WWl",
        "outputId": "ce98ca6e-d00e-4eee-870b-740a73aaf420"
      },
      "execution_count": 43,
      "outputs": [
        {
          "output_type": "stream",
          "name": "stdout",
          "text": [
            "Epoch 1/50\n",
            "17/17 - 11s - loss: 0.0032 - val_loss: 0.0393 - 11s/epoch - 654ms/step\n",
            "Epoch 2/50\n",
            "17/17 - 1s - loss: 0.0016 - val_loss: 0.0213 - 1s/epoch - 71ms/step\n",
            "Epoch 3/50\n",
            "17/17 - 1s - loss: 4.0388e-04 - val_loss: 0.0051 - 1s/epoch - 87ms/step\n",
            "Epoch 4/50\n",
            "17/17 - 2s - loss: 2.3646e-04 - val_loss: 0.0041 - 2s/epoch - 132ms/step\n",
            "Epoch 5/50\n",
            "17/17 - 1s - loss: 2.0884e-04 - val_loss: 0.0040 - 1s/epoch - 72ms/step\n",
            "Epoch 6/50\n",
            "17/17 - 1s - loss: 1.9976e-04 - val_loss: 0.0040 - 1s/epoch - 70ms/step\n",
            "Epoch 7/50\n",
            "17/17 - 1s - loss: 2.0088e-04 - val_loss: 0.0041 - 1s/epoch - 72ms/step\n",
            "Epoch 8/50\n",
            "17/17 - 1s - loss: 2.1448e-04 - val_loss: 0.0041 - 1s/epoch - 72ms/step\n",
            "Epoch 9/50\n",
            "17/17 - 1s - loss: 2.0757e-04 - val_loss: 0.0038 - 1s/epoch - 74ms/step\n",
            "Epoch 10/50\n",
            "17/17 - 1s - loss: 2.2896e-04 - val_loss: 0.0053 - 1s/epoch - 71ms/step\n",
            "Epoch 11/50\n",
            "17/17 - 1s - loss: 2.4219e-04 - val_loss: 0.0040 - 1s/epoch - 73ms/step\n",
            "Epoch 12/50\n",
            "17/17 - 1s - loss: 1.9134e-04 - val_loss: 0.0039 - 1s/epoch - 72ms/step\n",
            "Epoch 13/50\n",
            "17/17 - 2s - loss: 1.9487e-04 - val_loss: 0.0044 - 2s/epoch - 122ms/step\n",
            "Epoch 14/50\n",
            "17/17 - 2s - loss: 2.0067e-04 - val_loss: 0.0040 - 2s/epoch - 97ms/step\n",
            "Epoch 15/50\n",
            "17/17 - 1s - loss: 1.8671e-04 - val_loss: 0.0037 - 1s/epoch - 72ms/step\n",
            "Epoch 16/50\n",
            "17/17 - 1s - loss: 1.8945e-04 - val_loss: 0.0037 - 1s/epoch - 71ms/step\n",
            "Epoch 17/50\n",
            "17/17 - 1s - loss: 1.7485e-04 - val_loss: 0.0037 - 1s/epoch - 71ms/step\n",
            "Epoch 18/50\n",
            "17/17 - 1s - loss: 1.8249e-04 - val_loss: 0.0038 - 1s/epoch - 71ms/step\n",
            "Epoch 19/50\n",
            "17/17 - 1s - loss: 1.8655e-04 - val_loss: 0.0043 - 1s/epoch - 73ms/step\n",
            "Epoch 20/50\n",
            "17/17 - 1s - loss: 1.7307e-04 - val_loss: 0.0036 - 1s/epoch - 71ms/step\n",
            "Epoch 21/50\n",
            "17/17 - 1s - loss: 1.6637e-04 - val_loss: 0.0038 - 1s/epoch - 71ms/step\n",
            "Epoch 22/50\n",
            "17/17 - 2s - loss: 1.7510e-04 - val_loss: 0.0033 - 2s/epoch - 91ms/step\n",
            "Epoch 23/50\n",
            "17/17 - 2s - loss: 1.9372e-04 - val_loss: 0.0036 - 2s/epoch - 127ms/step\n",
            "Epoch 24/50\n",
            "17/17 - 1s - loss: 1.8834e-04 - val_loss: 0.0032 - 1s/epoch - 72ms/step\n",
            "Epoch 25/50\n",
            "17/17 - 1s - loss: 1.9411e-04 - val_loss: 0.0034 - 1s/epoch - 72ms/step\n",
            "Epoch 26/50\n",
            "17/17 - 1s - loss: 1.7956e-04 - val_loss: 0.0037 - 1s/epoch - 71ms/step\n",
            "Epoch 27/50\n",
            "17/17 - 1s - loss: 1.8166e-04 - val_loss: 0.0037 - 1s/epoch - 73ms/step\n",
            "Epoch 28/50\n",
            "17/17 - 1s - loss: 1.6727e-04 - val_loss: 0.0030 - 1s/epoch - 72ms/step\n",
            "Epoch 29/50\n",
            "17/17 - 1s - loss: 1.6437e-04 - val_loss: 0.0034 - 1s/epoch - 72ms/step\n",
            "Epoch 30/50\n",
            "17/17 - 1s - loss: 1.5489e-04 - val_loss: 0.0031 - 1s/epoch - 71ms/step\n",
            "Epoch 31/50\n",
            "17/17 - 1s - loss: 1.4952e-04 - val_loss: 0.0028 - 1s/epoch - 71ms/step\n",
            "Epoch 32/50\n",
            "17/17 - 2s - loss: 1.4579e-04 - val_loss: 0.0028 - 2s/epoch - 122ms/step\n",
            "Epoch 33/50\n",
            "17/17 - 2s - loss: 1.4799e-04 - val_loss: 0.0035 - 2s/epoch - 95ms/step\n",
            "Epoch 34/50\n",
            "17/17 - 1s - loss: 1.5778e-04 - val_loss: 0.0025 - 1s/epoch - 70ms/step\n",
            "Epoch 35/50\n",
            "17/17 - 1s - loss: 1.4941e-04 - val_loss: 0.0026 - 1s/epoch - 70ms/step\n",
            "Epoch 36/50\n",
            "17/17 - 1s - loss: 1.2617e-04 - val_loss: 0.0026 - 1s/epoch - 70ms/step\n",
            "Epoch 37/50\n",
            "17/17 - 1s - loss: 1.3377e-04 - val_loss: 0.0024 - 1s/epoch - 71ms/step\n",
            "Epoch 38/50\n",
            "17/17 - 1s - loss: 1.2540e-04 - val_loss: 0.0030 - 1s/epoch - 73ms/step\n",
            "Epoch 39/50\n",
            "17/17 - 1s - loss: 1.3098e-04 - val_loss: 0.0021 - 1s/epoch - 70ms/step\n",
            "Epoch 40/50\n",
            "17/17 - 1s - loss: 1.2046e-04 - val_loss: 0.0022 - 1s/epoch - 71ms/step\n",
            "Epoch 41/50\n",
            "17/17 - 1s - loss: 1.1006e-04 - val_loss: 0.0021 - 1s/epoch - 88ms/step\n",
            "Epoch 42/50\n",
            "17/17 - 2s - loss: 1.1791e-04 - val_loss: 0.0021 - 2s/epoch - 129ms/step\n",
            "Epoch 43/50\n",
            "17/17 - 1s - loss: 1.3501e-04 - val_loss: 0.0027 - 1s/epoch - 74ms/step\n",
            "Epoch 44/50\n",
            "17/17 - 1s - loss: 1.3761e-04 - val_loss: 0.0026 - 1s/epoch - 73ms/step\n",
            "Epoch 45/50\n",
            "17/17 - 2s - loss: 1.1639e-04 - val_loss: 0.0018 - 2s/epoch - 101ms/step\n",
            "Epoch 46/50\n",
            "17/17 - 2s - loss: 1.1536e-04 - val_loss: 0.0021 - 2s/epoch - 129ms/step\n",
            "Epoch 47/50\n",
            "17/17 - 1s - loss: 1.1420e-04 - val_loss: 0.0017 - 1s/epoch - 72ms/step\n",
            "Epoch 48/50\n",
            "17/17 - 1s - loss: 1.0554e-04 - val_loss: 0.0021 - 1s/epoch - 73ms/step\n",
            "Epoch 49/50\n",
            "17/17 - 1s - loss: 1.1175e-04 - val_loss: 0.0016 - 1s/epoch - 70ms/step\n",
            "Epoch 50/50\n",
            "17/17 - 2s - loss: 1.1279e-04 - val_loss: 0.0022 - 2s/epoch - 130ms/step\n",
            "37/37 [==============================] - 2s 16ms/step\n",
            "2/2 [==============================] - 0s 18ms/step\n",
            "Train Sccore 4.38 RMSE\n",
            "Train Sccore 24.72 RMSE\n"
          ]
        }
      ]
    },
    {
      "cell_type": "code",
      "source": [
        "dataset = dataframe.values\n",
        "scaler = MinMaxScaler(feature_range=(0, 1))\n",
        "dataset = scaler.fit_transform(dataset.reshape(-1, 1))\n",
        "train_size = 1191\n",
        "test_size = len(dataset)-1191\n",
        "train, test = dataset[0: train_size], dataset[train_size: len(dataset)]\n",
        "trainX, trainY = creat_dataset(train, look_back)\n",
        "testX, testY = creat_dataset(test, look_back)\n",
        "# print(trainX.shape)\n",
        "model = Sequential()\n",
        "model.add(LSTM(units=50,input_shape=(trainX.shape[1], 1),return_sequences=True))\n",
        "# model.add(Dropout(0.2))\n",
        "model.add(LSTM(50, return_sequences=True))\n",
        "# model.add(Dropout(0.2))\n",
        "model.add(LSTM(100, return_sequences=True))\n",
        "# model.add(Dropout(0.2))\n",
        "model.add(LSTM(300, return_sequences=False))\n",
        "model.add(Dropout(0.2))\n",
        "model.add(Dense(100))\n",
        "model.add(Dense(1, activation='relu'))\n",
        "model.compile(loss='mean_squared_error', optimizer='Adam')\n",
        "# model.summary()\n",
        "history = model.fit(trainX, trainY, batch_size=10, epochs=50, validation_split=0.1, verbose=2)\n",
        "trainPredict = model.predict(trainX)\n",
        "testPredict = model.predict(testX)\n",
        "trainPredict = scaler.inverse_transform(trainPredict)\n",
        "trainY = scaler.inverse_transform(trainY)\n",
        "testPredict = scaler.inverse_transform(testPredict)\n",
        "testY = scaler.inverse_transform(testY)\n",
        "trainScore = math.sqrt(mean_squared_error(trainY, trainPredict[:, 0]))\n",
        "print('Train Sccore %.2f RMSE' %(trainScore))\n",
        "testScore = math.sqrt(mean_squared_error(testY, testPredict[:, 0]))\n",
        "print('Train Sccore %.2f RMSE' %(testScore))\n",
        "\n",
        "RMSE_nodrop_10 = [trainScore,testScore]\n"
      ],
      "metadata": {
        "colab": {
          "base_uri": "https://localhost:8080/"
        },
        "id": "C-ouHQRwKax3",
        "outputId": "bcf5d282-3b8c-403a-c4c7-5ebef67a4212"
      },
      "execution_count": 54,
      "outputs": [
        {
          "output_type": "stream",
          "name": "stdout",
          "text": [
            "Epoch 1/50\n",
            "107/107 - 10s - loss: 6.7775e-04 - val_loss: 0.0086 - 10s/epoch - 95ms/step\n",
            "Epoch 2/50\n",
            "107/107 - 1s - loss: 2.7358e-04 - val_loss: 0.0035 - 981ms/epoch - 9ms/step\n",
            "Epoch 3/50\n",
            "107/107 - 1s - loss: 2.2787e-04 - val_loss: 0.0041 - 934ms/epoch - 9ms/step\n",
            "Epoch 4/50\n",
            "107/107 - 1s - loss: 2.0816e-04 - val_loss: 0.0038 - 942ms/epoch - 9ms/step\n",
            "Epoch 5/50\n",
            "107/107 - 1s - loss: 2.0548e-04 - val_loss: 0.0032 - 942ms/epoch - 9ms/step\n",
            "Epoch 6/50\n",
            "107/107 - 1s - loss: 1.8472e-04 - val_loss: 0.0029 - 943ms/epoch - 9ms/step\n",
            "Epoch 7/50\n",
            "107/107 - 1s - loss: 1.8445e-04 - val_loss: 0.0033 - 1s/epoch - 14ms/step\n",
            "Epoch 8/50\n",
            "107/107 - 1s - loss: 1.4914e-04 - val_loss: 0.0033 - 1s/epoch - 10ms/step\n",
            "Epoch 9/50\n",
            "107/107 - 1s - loss: 1.4813e-04 - val_loss: 0.0026 - 913ms/epoch - 9ms/step\n",
            "Epoch 10/50\n",
            "107/107 - 1s - loss: 1.4750e-04 - val_loss: 0.0020 - 911ms/epoch - 9ms/step\n",
            "Epoch 11/50\n",
            "107/107 - 1s - loss: 1.3186e-04 - val_loss: 0.0017 - 925ms/epoch - 9ms/step\n",
            "Epoch 12/50\n",
            "107/107 - 1s - loss: 1.1980e-04 - val_loss: 0.0027 - 1s/epoch - 12ms/step\n",
            "Epoch 13/50\n",
            "107/107 - 1s - loss: 1.0013e-04 - val_loss: 0.0025 - 1s/epoch - 11ms/step\n",
            "Epoch 14/50\n",
            "107/107 - 1s - loss: 1.0197e-04 - val_loss: 0.0010 - 936ms/epoch - 9ms/step\n",
            "Epoch 15/50\n",
            "107/107 - 1s - loss: 8.9068e-05 - val_loss: 0.0016 - 941ms/epoch - 9ms/step\n",
            "Epoch 16/50\n",
            "107/107 - 1s - loss: 9.6359e-05 - val_loss: 0.0013 - 923ms/epoch - 9ms/step\n",
            "Epoch 17/50\n",
            "107/107 - 1s - loss: 6.9440e-05 - val_loss: 0.0017 - 921ms/epoch - 9ms/step\n",
            "Epoch 18/50\n",
            "107/107 - 1s - loss: 6.1896e-05 - val_loss: 9.3084e-04 - 920ms/epoch - 9ms/step\n",
            "Epoch 19/50\n",
            "107/107 - 1s - loss: 7.2913e-05 - val_loss: 9.9617e-04 - 943ms/epoch - 9ms/step\n",
            "Epoch 20/50\n",
            "107/107 - 1s - loss: 6.2138e-05 - val_loss: 7.9829e-04 - 917ms/epoch - 9ms/step\n",
            "Epoch 21/50\n",
            "107/107 - 1s - loss: 6.8312e-05 - val_loss: 0.0017 - 929ms/epoch - 9ms/step\n",
            "Epoch 22/50\n",
            "107/107 - 1s - loss: 7.3303e-05 - val_loss: 7.5592e-04 - 932ms/epoch - 9ms/step\n",
            "Epoch 23/50\n",
            "107/107 - 1s - loss: 6.6632e-05 - val_loss: 8.1316e-04 - 914ms/epoch - 9ms/step\n",
            "Epoch 24/50\n",
            "107/107 - 1s - loss: 6.5237e-05 - val_loss: 9.0373e-04 - 1s/epoch - 11ms/step\n",
            "Epoch 25/50\n",
            "107/107 - 1s - loss: 5.8728e-05 - val_loss: 8.3620e-04 - 1s/epoch - 12ms/step\n",
            "Epoch 26/50\n",
            "107/107 - 1s - loss: 6.5207e-05 - val_loss: 8.0654e-04 - 982ms/epoch - 9ms/step\n",
            "Epoch 27/50\n",
            "107/107 - 1s - loss: 9.0949e-05 - val_loss: 8.0443e-04 - 923ms/epoch - 9ms/step\n",
            "Epoch 28/50\n",
            "107/107 - 1s - loss: 7.8178e-05 - val_loss: 9.8310e-04 - 930ms/epoch - 9ms/step\n",
            "Epoch 29/50\n",
            "107/107 - 1s - loss: 6.2398e-05 - val_loss: 0.0016 - 944ms/epoch - 9ms/step\n",
            "Epoch 30/50\n",
            "107/107 - 1s - loss: 6.1390e-05 - val_loss: 9.2012e-04 - 917ms/epoch - 9ms/step\n",
            "Epoch 31/50\n",
            "107/107 - 1s - loss: 7.0789e-05 - val_loss: 8.8758e-04 - 972ms/epoch - 9ms/step\n",
            "Epoch 32/50\n",
            "107/107 - 1s - loss: 7.6795e-05 - val_loss: 0.0014 - 918ms/epoch - 9ms/step\n",
            "Epoch 33/50\n",
            "107/107 - 1s - loss: 6.3410e-05 - val_loss: 9.5808e-04 - 936ms/epoch - 9ms/step\n",
            "Epoch 34/50\n",
            "107/107 - 1s - loss: 6.1484e-05 - val_loss: 7.9399e-04 - 949ms/epoch - 9ms/step\n",
            "Epoch 35/50\n",
            "107/107 - 1s - loss: 7.1907e-05 - val_loss: 8.5884e-04 - 938ms/epoch - 9ms/step\n",
            "Epoch 36/50\n",
            "107/107 - 1s - loss: 5.9526e-05 - val_loss: 0.0011 - 1s/epoch - 11ms/step\n",
            "Epoch 37/50\n",
            "107/107 - 1s - loss: 8.0454e-05 - val_loss: 7.4277e-04 - 1s/epoch - 12ms/step\n",
            "Epoch 38/50\n",
            "107/107 - 1s - loss: 6.9658e-05 - val_loss: 0.0013 - 1s/epoch - 10ms/step\n",
            "Epoch 39/50\n",
            "107/107 - 2s - loss: 6.6465e-05 - val_loss: 0.0022 - 2s/epoch - 14ms/step\n",
            "Epoch 40/50\n",
            "107/107 - 2s - loss: 7.3899e-05 - val_loss: 0.0015 - 2s/epoch - 15ms/step\n",
            "Epoch 41/50\n",
            "107/107 - 1s - loss: 6.5950e-05 - val_loss: 0.0011 - 881ms/epoch - 8ms/step\n",
            "Epoch 42/50\n",
            "107/107 - 1s - loss: 6.1445e-05 - val_loss: 0.0018 - 929ms/epoch - 9ms/step\n",
            "Epoch 43/50\n",
            "107/107 - 1s - loss: 6.8964e-05 - val_loss: 8.7003e-04 - 941ms/epoch - 9ms/step\n",
            "Epoch 44/50\n",
            "107/107 - 1s - loss: 6.0821e-05 - val_loss: 8.8685e-04 - 939ms/epoch - 9ms/step\n",
            "Epoch 45/50\n",
            "107/107 - 1s - loss: 6.1549e-05 - val_loss: 0.0014 - 926ms/epoch - 9ms/step\n",
            "Epoch 46/50\n",
            "107/107 - 1s - loss: 6.0754e-05 - val_loss: 7.4479e-04 - 924ms/epoch - 9ms/step\n",
            "Epoch 47/50\n",
            "107/107 - 1s - loss: 6.2293e-05 - val_loss: 0.0011 - 1s/epoch - 11ms/step\n",
            "Epoch 48/50\n",
            "107/107 - 1s - loss: 6.4505e-05 - val_loss: 0.0012 - 1s/epoch - 14ms/step\n",
            "Epoch 49/50\n",
            "107/107 - 1s - loss: 7.5373e-05 - val_loss: 0.0020 - 1s/epoch - 13ms/step\n",
            "Epoch 50/50\n",
            "107/107 - 1s - loss: 5.9459e-05 - val_loss: 9.0581e-04 - 1s/epoch - 11ms/step\n",
            "37/37 [==============================] - 1s 4ms/step\n",
            "2/2 [==============================] - 0s 13ms/step\n",
            "Train Sccore 3.07 RMSE\n",
            "Train Sccore 18.60 RMSE\n"
          ]
        }
      ]
    },
    {
      "cell_type": "code",
      "source": [
        "dataset = dataframe.values\n",
        "scaler = MinMaxScaler(feature_range=(0, 1))\n",
        "dataset = scaler.fit_transform(dataset.reshape(-1, 1))\n",
        "train_size = 1191\n",
        "test_size = len(dataset)-1191\n",
        "train, test = dataset[0: train_size], dataset[train_size: len(dataset)]\n",
        "trainX, trainY = creat_dataset(train, look_back)\n",
        "testX, testY = creat_dataset(test, look_back)\n",
        "# print(trainX.shape)\n",
        "model = Sequential()\n",
        "model.add(LSTM(units=50,input_shape=(trainX.shape[1], trainX.shape[2]),return_sequences=True))\n",
        "# model.add(Dropout(0.2))\n",
        "model.add(LSTM(50, return_sequences=True))\n",
        "# model.add(Dropout(0.2))\n",
        "model.add(LSTM(100, return_sequences=True))\n",
        "# model.add(Dropout(0.2))\n",
        "model.add(LSTM(300, return_sequences=False))\n",
        "model.add(Dropout(0.2))\n",
        "model.add(Dense(100))\n",
        "model.add(Dense(1, activation='relu'))\n",
        "model.compile(loss='mean_squared_error', optimizer='Adam')\n",
        "# model.summary()\n",
        "history = model.fit(trainX, trainY, batch_size=30, epochs=50, validation_split=0.1, verbose=2)\n",
        "trainPredict = model.predict(trainX)\n",
        "testPredict = model.predict(testX)\n",
        "trainPredict = scaler.inverse_transform(trainPredict)\n",
        "trainY = scaler.inverse_transform(trainY)\n",
        "testPredict = scaler.inverse_transform(testPredict)\n",
        "testY = scaler.inverse_transform(testY)\n",
        "trainScore = math.sqrt(mean_squared_error(trainY, trainPredict[:, 0]))\n",
        "print('Train Sccore %.2f RMSE' %(trainScore))\n",
        "testScore = math.sqrt(mean_squared_error(testY, testPredict[:, 0]))\n",
        "print('Train Sccore %.2f RMSE' %(testScore))\n",
        "\n",
        "RMSE_nodrop_30 = [trainScore,testScore]\n"
      ],
      "metadata": {
        "colab": {
          "base_uri": "https://localhost:8080/"
        },
        "id": "1Y3mxEf1KulY",
        "outputId": "c1026709-3537-4a7b-f0cc-07213db4446c"
      },
      "execution_count": 55,
      "outputs": [
        {
          "output_type": "stream",
          "name": "stdout",
          "text": [
            "Epoch 1/50\n",
            "36/36 - 9s - loss: 0.0123 - val_loss: 0.0953 - 9s/epoch - 242ms/step\n",
            "Epoch 2/50\n",
            "36/36 - 0s - loss: 0.0123 - val_loss: 0.0953 - 346ms/epoch - 10ms/step\n",
            "Epoch 3/50\n",
            "36/36 - 0s - loss: 0.0123 - val_loss: 0.0953 - 316ms/epoch - 9ms/step\n",
            "Epoch 4/50\n",
            "36/36 - 0s - loss: 0.0123 - val_loss: 0.0953 - 324ms/epoch - 9ms/step\n",
            "Epoch 5/50\n",
            "36/36 - 0s - loss: 0.0123 - val_loss: 0.0953 - 324ms/epoch - 9ms/step\n",
            "Epoch 6/50\n",
            "36/36 - 0s - loss: 0.0123 - val_loss: 0.0953 - 319ms/epoch - 9ms/step\n",
            "Epoch 7/50\n",
            "36/36 - 0s - loss: 0.0123 - val_loss: 0.0953 - 331ms/epoch - 9ms/step\n",
            "Epoch 8/50\n",
            "36/36 - 0s - loss: 0.0123 - val_loss: 0.0953 - 349ms/epoch - 10ms/step\n",
            "Epoch 9/50\n",
            "36/36 - 0s - loss: 0.0123 - val_loss: 0.0953 - 322ms/epoch - 9ms/step\n",
            "Epoch 10/50\n",
            "36/36 - 0s - loss: 0.0123 - val_loss: 0.0953 - 333ms/epoch - 9ms/step\n",
            "Epoch 11/50\n",
            "36/36 - 0s - loss: 0.0123 - val_loss: 0.0953 - 318ms/epoch - 9ms/step\n",
            "Epoch 12/50\n",
            "36/36 - 0s - loss: 0.0123 - val_loss: 0.0953 - 322ms/epoch - 9ms/step\n",
            "Epoch 13/50\n",
            "36/36 - 0s - loss: 0.0123 - val_loss: 0.0953 - 318ms/epoch - 9ms/step\n",
            "Epoch 14/50\n",
            "36/36 - 0s - loss: 0.0123 - val_loss: 0.0953 - 350ms/epoch - 10ms/step\n",
            "Epoch 15/50\n",
            "36/36 - 0s - loss: 0.0123 - val_loss: 0.0953 - 323ms/epoch - 9ms/step\n",
            "Epoch 16/50\n",
            "36/36 - 0s - loss: 0.0123 - val_loss: 0.0953 - 334ms/epoch - 9ms/step\n",
            "Epoch 17/50\n",
            "36/36 - 0s - loss: 0.0123 - val_loss: 0.0953 - 322ms/epoch - 9ms/step\n",
            "Epoch 18/50\n",
            "36/36 - 0s - loss: 0.0123 - val_loss: 0.0953 - 325ms/epoch - 9ms/step\n",
            "Epoch 19/50\n",
            "36/36 - 0s - loss: 0.0123 - val_loss: 0.0953 - 348ms/epoch - 10ms/step\n",
            "Epoch 20/50\n",
            "36/36 - 0s - loss: 0.0123 - val_loss: 0.0953 - 332ms/epoch - 9ms/step\n",
            "Epoch 21/50\n",
            "36/36 - 0s - loss: 0.0123 - val_loss: 0.0953 - 332ms/epoch - 9ms/step\n",
            "Epoch 22/50\n",
            "36/36 - 0s - loss: 0.0123 - val_loss: 0.0953 - 328ms/epoch - 9ms/step\n",
            "Epoch 23/50\n",
            "36/36 - 0s - loss: 0.0123 - val_loss: 0.0953 - 329ms/epoch - 9ms/step\n",
            "Epoch 24/50\n",
            "36/36 - 0s - loss: 0.0123 - val_loss: 0.0953 - 340ms/epoch - 9ms/step\n",
            "Epoch 25/50\n",
            "36/36 - 0s - loss: 0.0123 - val_loss: 0.0953 - 336ms/epoch - 9ms/step\n",
            "Epoch 26/50\n",
            "36/36 - 0s - loss: 0.0123 - val_loss: 0.0953 - 316ms/epoch - 9ms/step\n",
            "Epoch 27/50\n",
            "36/36 - 0s - loss: 0.0123 - val_loss: 0.0953 - 342ms/epoch - 9ms/step\n",
            "Epoch 28/50\n",
            "36/36 - 0s - loss: 0.0123 - val_loss: 0.0953 - 325ms/epoch - 9ms/step\n",
            "Epoch 29/50\n",
            "36/36 - 0s - loss: 0.0123 - val_loss: 0.0953 - 404ms/epoch - 11ms/step\n",
            "Epoch 30/50\n",
            "36/36 - 0s - loss: 0.0123 - val_loss: 0.0953 - 446ms/epoch - 12ms/step\n",
            "Epoch 31/50\n",
            "36/36 - 0s - loss: 0.0123 - val_loss: 0.0953 - 442ms/epoch - 12ms/step\n",
            "Epoch 32/50\n",
            "36/36 - 1s - loss: 0.0123 - val_loss: 0.0953 - 560ms/epoch - 16ms/step\n",
            "Epoch 33/50\n",
            "36/36 - 0s - loss: 0.0123 - val_loss: 0.0953 - 474ms/epoch - 13ms/step\n",
            "Epoch 34/50\n",
            "36/36 - 0s - loss: 0.0123 - val_loss: 0.0953 - 387ms/epoch - 11ms/step\n",
            "Epoch 35/50\n",
            "36/36 - 0s - loss: 0.0123 - val_loss: 0.0953 - 331ms/epoch - 9ms/step\n",
            "Epoch 36/50\n",
            "36/36 - 0s - loss: 0.0123 - val_loss: 0.0953 - 347ms/epoch - 10ms/step\n",
            "Epoch 37/50\n",
            "36/36 - 0s - loss: 0.0123 - val_loss: 0.0953 - 353ms/epoch - 10ms/step\n",
            "Epoch 38/50\n",
            "36/36 - 0s - loss: 0.0123 - val_loss: 0.0953 - 328ms/epoch - 9ms/step\n",
            "Epoch 39/50\n",
            "36/36 - 0s - loss: 0.0123 - val_loss: 0.0953 - 335ms/epoch - 9ms/step\n",
            "Epoch 40/50\n",
            "36/36 - 0s - loss: 0.0123 - val_loss: 0.0953 - 330ms/epoch - 9ms/step\n",
            "Epoch 41/50\n",
            "36/36 - 0s - loss: 0.0123 - val_loss: 0.0953 - 315ms/epoch - 9ms/step\n",
            "Epoch 42/50\n",
            "36/36 - 0s - loss: 0.0123 - val_loss: 0.0953 - 337ms/epoch - 9ms/step\n",
            "Epoch 43/50\n",
            "36/36 - 0s - loss: 0.0123 - val_loss: 0.0953 - 325ms/epoch - 9ms/step\n",
            "Epoch 44/50\n",
            "36/36 - 0s - loss: 0.0123 - val_loss: 0.0953 - 334ms/epoch - 9ms/step\n",
            "Epoch 45/50\n",
            "36/36 - 0s - loss: 0.0123 - val_loss: 0.0953 - 339ms/epoch - 9ms/step\n",
            "Epoch 46/50\n",
            "36/36 - 0s - loss: 0.0123 - val_loss: 0.0953 - 342ms/epoch - 10ms/step\n",
            "Epoch 47/50\n",
            "36/36 - 0s - loss: 0.0123 - val_loss: 0.0953 - 319ms/epoch - 9ms/step\n",
            "Epoch 48/50\n",
            "36/36 - 0s - loss: 0.0123 - val_loss: 0.0953 - 311ms/epoch - 9ms/step\n",
            "Epoch 49/50\n",
            "36/36 - 0s - loss: 0.0123 - val_loss: 0.0953 - 325ms/epoch - 9ms/step\n",
            "Epoch 50/50\n",
            "36/36 - 0s - loss: 0.0123 - val_loss: 0.0953 - 334ms/epoch - 9ms/step\n",
            "37/37 [==============================] - 1s 4ms/step\n",
            "2/2 [==============================] - 0s 7ms/step\n",
            "Train Sccore 35.93 RMSE\n",
            "Train Sccore 152.37 RMSE\n"
          ]
        }
      ]
    },
    {
      "cell_type": "code",
      "source": [
        "Score_compare = [dropout_nodrop_64,\n",
        "RMSE_nodrop_10,\n",
        "RMSE_nodrop_30,\n",
        "RMSE_drop_64]\n",
        "Score_compare = pd.DataFrame(Score_compare)\n",
        "# print(Score_compare1)\n",
        "# print(Score_compare1[0])"
      ],
      "metadata": {
        "id": "tzpiazKf4alH"
      },
      "execution_count": 56,
      "outputs": []
    },
    {
      "cell_type": "code",
      "source": [
        "# Score_compare = pd.DataFrame([ [0.00704090063324104, 0.04813220636598323], [0.007642569640095808, 0.046490231001649084], [0.01098362425636774, 0.0820703601019718]])\n",
        "# Score_compare1 = Score_compare.iloc[[1, 2]]\n",
        "# print(Score_compare1)"
      ],
      "metadata": {
        "colab": {
          "base_uri": "https://localhost:8080/"
        },
        "id": "1bcEdWb5Snmw",
        "outputId": "4dd6e7f9-e1b3-4fc1-fc59-ecd9461f8d4d"
      },
      "execution_count": 202,
      "outputs": [
        {
          "output_type": "stream",
          "name": "stdout",
          "text": [
            "          0        1\n",
            "1  0.007643  0.04649\n",
            "2  0.010984  0.08207\n"
          ]
        }
      ]
    },
    {
      "cell_type": "code",
      "source": [
        "import pandas as pd\n",
        "# Score_compare = pd.DataFrame([[2.57321974167287, 17.168238982940675], [0.01098362425636774, 0.0820703601019718]])\n",
        "Score_compare1 = Score_compare.iloc[[0, 3]]\n",
        "import matplotlib.pyplot as plt\n",
        "\n",
        "# Score_compare2 = pd.DataFrame([ [0.00704090063324104, 0.04813220636598323], [0.007642569640095808, 0.046490231001649084], [0.01098362425636774, 0.0820703601019718]])\n",
        "Score_compare2 = Score_compare[1:]\n",
        "labels = ['dropout_nodrop_64', 'RMSE_drop_64']\n",
        "plt.scatter(Score_compare1[0],Score_compare1[1])\n",
        "plt.xlabel('train_RMSE')\n",
        "plt.ylabel('test_RMSE')\n",
        "for i, label in enumerate(labels):\n",
        "    plt.text(Score_compare1.iloc[i,0], Score_compare1.iloc[i,1], label, fontsize=12, ha='center', va='bottom')\n",
        "plt.show()\n",
        "\n",
        "labels = ['RMSE_nodrop_10','RMSE_nodrop_30','RMSE_drop_64']\n",
        "plt.scatter(Score_compare2[0],Score_compare2[1])\n",
        "plt.xlabel('train_RMSE')\n",
        "plt.ylabel('test_RMSE')\n",
        "for i, label in enumerate(labels):\n",
        "    plt.text(Score_compare2.iloc[i,0], Score_compare2.iloc[i,1], label, fontsize=12, ha='center', va='bottom')\n",
        "plt.show()"
      ],
      "metadata": {
        "colab": {
          "base_uri": "https://localhost:8080/",
          "height": 885
        },
        "id": "iF23uSriTXFr",
        "outputId": "3a98f9c9-aa06-4874-8e7f-2e426aa6ab29"
      },
      "execution_count": 57,
      "outputs": [
        {
          "output_type": "display_data",
          "data": {
            "text/plain": [
              "<Figure size 640x480 with 1 Axes>"
            ],
            "image/png": "[encoded data removed]"
          },
          "metadata": {}
        },
        {
          "output_type": "display_data",
          "data": {
            "text/plain": [
              "<Figure size 640x480 with 1 Axes>"
            ],
            "image/png": "[encoded data removed]"
          },
          "metadata": {}
        }
      ]
    },
    {
      "cell_type": "markdown",
      "source": [
        "### More features"
      ],
      "metadata": {
        "id": "yPCKSlurbY4T"
      }
    },
    {
      "cell_type": "code",
      "source": [
        "data1 = df.iloc[:,1:]\n",
        "output_data = df.iloc[:,3]\n",
        "print(data1,output_data)"
      ],
      "metadata": {
        "colab": {
          "base_uri": "https://localhost:8080/"
        },
        "id": "-T8NQlpLbcV2",
        "outputId": "9e0599da-1d10-4a92-ce38-3a9be4c80b83"
      },
      "execution_count": 11,
      "outputs": [
        {
          "output_type": "stream",
          "name": "stdout",
          "text": [
            "            Open        High         Low       Close   Adj Close     Volume\n",
            "0      52.444000   52.599998   51.563999   51.830002   51.830002   13054500\n",
            "1      52.450001   52.509998   51.209999   52.431999   52.431999   14801500\n",
            "2      52.419998   53.198002   52.102001   53.130001   53.130001    9538000\n",
            "3      53.348000   53.498001   52.416000   52.627998   52.627998   10108000\n",
            "4      52.844002   53.439999   52.632000   53.335999   53.335999    8080000\n",
            "...          ...         ...         ...         ...         ...        ...\n",
            "1254  244.296005  245.600006  237.119995  241.731995  241.731995   86250500\n",
            "1255  255.337997  275.558014  253.207993  274.316010  274.316010  102849500\n",
            "1256  281.002014  285.899994  267.342010  277.971985  277.971985  107448500\n",
            "1257  281.000000  283.451996  262.268005  273.175995  273.175995   81556500\n",
            "1258  279.398010  281.712006  270.256012  278.855988  278.855988   58588000\n",
            "\n",
            "[1259 rows x 6 columns] 0        51.563999\n",
            "1        51.209999\n",
            "2        52.102001\n",
            "3        52.416000\n",
            "4        52.632000\n",
            "           ...    \n",
            "1254    237.119995\n",
            "1255    253.207993\n",
            "1256    267.342010\n",
            "1257    262.268005\n",
            "1258    270.256012\n",
            "Name: Low, Length: 1259, dtype: float64\n"
          ]
        }
      ]
    },
    {
      "cell_type": "code",
      "source": [
        "dataset = data1\n",
        "scaler = MinMaxScaler(feature_range=(0, 1))\n",
        "dataset = scaler.fit_transform(dataset)\n",
        "# print(dataset)\n",
        "train_size = 1191\n",
        "test_size = len(dataset)-1191\n",
        "train, test = dataset[0: train_size], dataset[train_size: len(dataset)]\n",
        "trainX, trainY = creat_dataset(train, look_back)\n",
        "testX, testY = creat_dataset(test, look_back)\n",
        "# print(trainY.shape,testY.shape)\n",
        "dataY = []\n",
        "for i in range(len(dataset)-look_back-1):\n",
        "  dataY.append(dataset[i+look_back,3])\n",
        "dataY = np.array(dataY)\n",
        "trainY = dataY[8: train_size]\n",
        "testY = dataY[train_size: len(dataset)]\n",
        "# print(testY.shape,test_size,trainY.shape,dataY.shape)\n",
        "model = Sequential()\n",
        "model.add(LSTM(units=50,input_shape=(trainX.shape[1], trainX.shape[2]),return_sequences=True))\n",
        "model.add(Dropout(0.2))\n",
        "model.add(LSTM(50, return_sequences=True))\n",
        "model.add(Dropout(0.2))\n",
        "model.add(LSTM(100, return_sequences=True))\n",
        "model.add(Dropout(0.2))\n",
        "model.add(LSTM(300, return_sequences=False))\n",
        "model.add(Dropout(0.2))\n",
        "model.add(Dense(100))\n",
        "model.add(Dense(1, activation='relu'))\n",
        "model.compile(loss='mean_squared_error', optimizer='Adam')"
      ],
      "metadata": {
        "id": "nWRj9kYiaKq7"
      },
      "execution_count": 27,
      "outputs": []
    },
    {
      "cell_type": "code",
      "source": [
        "history = model.fit(trainX, trainY, batch_size=64, epochs=50, validation_split=0.1, verbose=2)\n",
        "trainPredict = model.predict(trainX)\n",
        "testPredict = model.predict(testX)"
      ],
      "metadata": {
        "colab": {
          "base_uri": "https://localhost:8080/"
        },
        "id": "IocLtiHAe_qd",
        "outputId": "cacccbc0-9828-4ad7-9fae-277fa6249626"
      },
      "execution_count": 28,
      "outputs": [
        {
          "output_type": "stream",
          "name": "stdout",
          "text": [
            "Epoch 1/50\n",
            "17/17 - 11s - loss: 0.0030 - val_loss: 0.0311 - 11s/epoch - 646ms/step\n",
            "Epoch 2/50\n",
            "17/17 - 2s - loss: 0.0012 - val_loss: 0.0185 - 2s/epoch - 143ms/step\n",
            "Epoch 3/50\n",
            "17/17 - 2s - loss: 6.0724e-04 - val_loss: 0.0132 - 2s/epoch - 141ms/step\n",
            "Epoch 4/50\n",
            "17/17 - 2s - loss: 5.2034e-04 - val_loss: 0.0123 - 2s/epoch - 117ms/step\n",
            "Epoch 5/50\n",
            "17/17 - 2s - loss: 4.6395e-04 - val_loss: 0.0136 - 2s/epoch - 132ms/step\n",
            "Epoch 6/50\n",
            "17/17 - 2s - loss: 4.9457e-04 - val_loss: 0.0115 - 2s/epoch - 106ms/step\n",
            "Epoch 7/50\n",
            "17/17 - 2s - loss: 4.7257e-04 - val_loss: 0.0121 - 2s/epoch - 125ms/step\n",
            "Epoch 8/50\n",
            "17/17 - 2s - loss: 4.5354e-04 - val_loss: 0.0119 - 2s/epoch - 144ms/step\n",
            "Epoch 9/50\n",
            "17/17 - 2s - loss: 4.4006e-04 - val_loss: 0.0116 - 2s/epoch - 138ms/step\n",
            "Epoch 10/50\n",
            "17/17 - 1s - loss: 4.5222e-04 - val_loss: 0.0122 - 1s/epoch - 72ms/step\n",
            "Epoch 11/50\n",
            "17/17 - 1s - loss: 4.3879e-04 - val_loss: 0.0127 - 1s/epoch - 72ms/step\n",
            "Epoch 12/50\n",
            "17/17 - 1s - loss: 4.7284e-04 - val_loss: 0.0123 - 1s/epoch - 74ms/step\n",
            "Epoch 13/50\n",
            "17/17 - 1s - loss: 4.4987e-04 - val_loss: 0.0124 - 1s/epoch - 74ms/step\n",
            "Epoch 14/50\n",
            "17/17 - 1s - loss: 4.4090e-04 - val_loss: 0.0117 - 1s/epoch - 73ms/step\n",
            "Epoch 15/50\n",
            "17/17 - 1s - loss: 4.6351e-04 - val_loss: 0.0121 - 1s/epoch - 74ms/step\n",
            "Epoch 16/50\n",
            "17/17 - 1s - loss: 4.5667e-04 - val_loss: 0.0115 - 1s/epoch - 73ms/step\n",
            "Epoch 17/50\n",
            "17/17 - 2s - loss: 4.5332e-04 - val_loss: 0.0120 - 2s/epoch - 124ms/step\n",
            "Epoch 18/50\n",
            "17/17 - 2s - loss: 4.3581e-04 - val_loss: 0.0122 - 2s/epoch - 98ms/step\n",
            "Epoch 19/50\n",
            "17/17 - 1s - loss: 4.2963e-04 - val_loss: 0.0127 - 1s/epoch - 72ms/step\n",
            "Epoch 20/50\n",
            "17/17 - 1s - loss: 4.3905e-04 - val_loss: 0.0118 - 1s/epoch - 73ms/step\n",
            "Epoch 21/50\n",
            "17/17 - 1s - loss: 4.1505e-04 - val_loss: 0.0117 - 1s/epoch - 75ms/step\n",
            "Epoch 22/50\n",
            "17/17 - 2s - loss: 4.3458e-04 - val_loss: 0.0115 - 2s/epoch - 124ms/step\n",
            "Epoch 23/50\n",
            "17/17 - 2s - loss: 4.4222e-04 - val_loss: 0.0114 - 2s/epoch - 136ms/step\n",
            "Epoch 24/50\n",
            "17/17 - 3s - loss: 4.3135e-04 - val_loss: 0.0130 - 3s/epoch - 178ms/step\n",
            "Epoch 25/50\n",
            "17/17 - 3s - loss: 4.1641e-04 - val_loss: 0.0116 - 3s/epoch - 175ms/step\n",
            "Epoch 26/50\n",
            "17/17 - 2s - loss: 4.1830e-04 - val_loss: 0.0128 - 2s/epoch - 131ms/step\n",
            "Epoch 27/50\n",
            "17/17 - 2s - loss: 4.2139e-04 - val_loss: 0.0118 - 2s/epoch - 118ms/step\n",
            "Epoch 28/50\n",
            "17/17 - 2s - loss: 4.2316e-04 - val_loss: 0.0133 - 2s/epoch - 120ms/step\n",
            "Epoch 29/50\n",
            "17/17 - 1s - loss: 4.2392e-04 - val_loss: 0.0122 - 1s/epoch - 80ms/step\n",
            "Epoch 30/50\n",
            "17/17 - 2s - loss: 4.1377e-04 - val_loss: 0.0118 - 2s/epoch - 109ms/step\n",
            "Epoch 31/50\n",
            "17/17 - 2s - loss: 4.1817e-04 - val_loss: 0.0124 - 2s/epoch - 114ms/step\n",
            "Epoch 32/50\n",
            "17/17 - 1s - loss: 4.2901e-04 - val_loss: 0.0129 - 1s/epoch - 75ms/step\n",
            "Epoch 33/50\n",
            "17/17 - 2s - loss: 4.1659e-04 - val_loss: 0.0110 - 2s/epoch - 118ms/step\n",
            "Epoch 34/50\n",
            "17/17 - 3s - loss: 4.4705e-04 - val_loss: 0.0126 - 3s/epoch - 151ms/step\n",
            "Epoch 35/50\n",
            "17/17 - 2s - loss: 4.2028e-04 - val_loss: 0.0110 - 2s/epoch - 130ms/step\n",
            "Epoch 36/50\n",
            "17/17 - 3s - loss: 4.1035e-04 - val_loss: 0.0113 - 3s/epoch - 153ms/step\n",
            "Epoch 37/50\n",
            "17/17 - 3s - loss: 4.5582e-04 - val_loss: 0.0111 - 3s/epoch - 158ms/step\n",
            "Epoch 38/50\n",
            "17/17 - 2s - loss: 4.1015e-04 - val_loss: 0.0114 - 2s/epoch - 124ms/step\n",
            "Epoch 39/50\n",
            "17/17 - 2s - loss: 4.2468e-04 - val_loss: 0.0110 - 2s/epoch - 133ms/step\n",
            "Epoch 40/50\n",
            "17/17 - 2s - loss: 4.2073e-04 - val_loss: 0.0128 - 2s/epoch - 141ms/step\n",
            "Epoch 41/50\n",
            "17/17 - 2s - loss: 4.4527e-04 - val_loss: 0.0122 - 2s/epoch - 118ms/step\n",
            "Epoch 42/50\n",
            "17/17 - 3s - loss: 4.2555e-04 - val_loss: 0.0135 - 3s/epoch - 158ms/step\n",
            "Epoch 43/50\n",
            "17/17 - 2s - loss: 4.1385e-04 - val_loss: 0.0136 - 2s/epoch - 97ms/step\n",
            "Epoch 44/50\n",
            "17/17 - 1s - loss: 4.2544e-04 - val_loss: 0.0106 - 1s/epoch - 72ms/step\n",
            "Epoch 45/50\n",
            "17/17 - 1s - loss: 4.2519e-04 - val_loss: 0.0103 - 1s/epoch - 75ms/step\n",
            "Epoch 46/50\n",
            "17/17 - 1s - loss: 4.0743e-04 - val_loss: 0.0111 - 1s/epoch - 73ms/step\n",
            "Epoch 47/50\n",
            "17/17 - 1s - loss: 4.0184e-04 - val_loss: 0.0126 - 1s/epoch - 74ms/step\n",
            "Epoch 48/50\n",
            "17/17 - 1s - loss: 4.3008e-04 - val_loss: 0.0129 - 1s/epoch - 74ms/step\n",
            "Epoch 49/50\n",
            "17/17 - 1s - loss: 4.3086e-04 - val_loss: 0.0140 - 1s/epoch - 73ms/step\n",
            "Epoch 50/50\n",
            "17/17 - 1s - loss: 4.2032e-04 - val_loss: 0.0118 - 1s/epoch - 72ms/step\n",
            "37/37 [==============================] - 3s 25ms/step\n",
            "2/2 [==============================] - 0s 26ms/step\n"
          ]
        }
      ]
    },
    {
      "cell_type": "code",
      "source": [
        "# print(type(trainPredict))\n",
        "# print(type(data1))\n",
        "# print(type(data1.iloc[:,0:3].values))\n",
        "# print(data1.iloc[:,4:].values)"
      ],
      "metadata": {
        "colab": {
          "base_uri": "https://localhost:8080/"
        },
        "id": "BzgX-2hPlMWa",
        "outputId": "13bac7bb-fc5b-4d75-c95c-ce6d0269c46c"
      },
      "execution_count": 21,
      "outputs": [
        {
          "output_type": "stream",
          "name": "stdout",
          "text": [
            "<class 'numpy.ndarray'>\n",
            "<class 'pandas.core.frame.DataFrame'>\n",
            "<class 'numpy.ndarray'>\n",
            "[[5.18300020e+01 1.30545000e+07]\n",
            " [5.24319990e+01 1.48015000e+07]\n",
            " [5.31300010e+01 9.53800000e+06]\n",
            " ...\n",
            " [2.77971985e+02 1.07448500e+08]\n",
            " [2.73175995e+02 8.15565000e+07]\n",
            " [2.78855988e+02 5.85880000e+07]]\n"
          ]
        }
      ]
    },
    {
      "cell_type": "code",
      "source": [
        "def trans(X):\n",
        "  X = np.c_[data1.iloc[8:1191,0:3].values, X, data1.iloc[8:1191,4:].values]\n",
        "  Y = scaler.inverse_transform(X)\n",
        "  return Y[:,3]\n",
        "def trans_test(X):\n",
        "  X = np.c_[data1.iloc[1199:,0:3].values, X, data1.iloc[1199:,4:].values]\n",
        "  Y = scaler.inverse_transform(X)\n",
        "  return Y[:,3]\n",
        "trainPredict1 = trans(trainPredict)\n",
        "trainY1 = trans(trainY)\n",
        "testPredict1 = trans_test(testPredict)\n",
        "testY1 = trans_test(testY)"
      ],
      "metadata": {
        "id": "c4CbAy15kEFf"
      },
      "execution_count": 29,
      "outputs": []
    },
    {
      "cell_type": "code",
      "source": [
        "trainScore = math.sqrt(mean_squared_error(trainY1, trainPredict1))\n",
        "print('Train Sccore %.2f RMSE' %(trainScore))\n",
        "testScore = math.sqrt(mean_squared_error(testY1, testPredict1))\n",
        "print('Train Sccore %.2f RMSE' %(testScore))"
      ],
      "metadata": {
        "colab": {
          "base_uri": "https://localhost:8080/"
        },
        "id": "zpsRxDFMoEMo",
        "outputId": "4d8aa5a4-a4ef-4bb2-a6f8-46790d8214ed"
      },
      "execution_count": 33,
      "outputs": [
        {
          "output_type": "stream",
          "name": "stdout",
          "text": [
            "Train Sccore 9.88 RMSE\n",
            "Train Sccore 47.34 RMSE\n"
          ]
        }
      ]
    },
    {
      "cell_type": "code",
      "source": [
        "Score_compare3 = Score_compare[1]\n",
        "RMSE_nodrop_30 = [trainScore,testScore]\n",
        "labels = ['dropout_nodrop_64', 'RMSE_drop_64']\n",
        "plt.scatter(Score_compare1[0],Score_compare1[1])\n",
        "plt.xlabel('train_RMSE')\n",
        "plt.ylabel('test_RMSE')\n",
        "plt.show()"
      ],
      "metadata": {
        "id": "NT27jzv8ihbR"
      },
      "execution_count": null,
      "outputs": []
    },
    {
      "cell_type": "code",
      "source": [
        "trainPredictPlot = np.empty_like(dataY)\n",
        "trainPredictPlot[:] = np.nan\n",
        "trainPredictPlot = np.reshape(trainPredictPlot, (dataY.shape[0], 1))\n",
        "print(trainPredictPlot.shape)\n",
        "trainPredictPlot[look_back: len(trainPredict1)+look_back,:] = trainPredict1.reshape(-1,1)\n",
        "testPredictPlot = np.empty_like(dataY)\n",
        "testPredictPlot[:] = np.nan\n",
        "testPredictPlot = np.reshape(testPredictPlot, (dataY.shape[0], 1))\n",
        "testPredictPlot[len(trainPredict1)-8+(look_back*2)+1: len(dataY)-1, :] = testPredict1.reshape(-1,1)\n",
        "fig1 = plt.figure(figsize=(12, 8))\n",
        "plt.plot(history.history['loss'])\n",
        "plt.title('model loss')\n",
        "plt.ylabel('loss')\n",
        "plt.xlabel('epoch')\n",
        "plt.show()"
      ],
      "metadata": {
        "colab": {
          "base_uri": "https://localhost:8080/",
          "height": 678
        },
        "id": "x79jrgispao8",
        "outputId": "50c4ae13-15a6-45f6-ed48-4630dd9f432a"
      },
      "execution_count": 40,
      "outputs": [
        {
          "output_type": "stream",
          "name": "stdout",
          "text": [
            "(1251, 1)\n"
          ]
        },
        {
          "output_type": "display_data",
          "data": {
            "text/plain": [
              "<Figure size 1200x800 with 1 Axes>"
            ],
            "image/png": "[encoded data removed]"
          },
          "metadata": {}
        }
      ]
    },
    {
      "cell_type": "code",
      "source": [
        "fig2 = plt.figure(figsize=(20, 15))\n",
        "plt.plot(scaler.inverse_transform(dataset))\n",
        "plt.plot(np.arange(1198,1258),trainPredict_final,label='testPredict_1_feature')\n",
        "plt.plot(np.arange(1198,1258),testPredict1,label='testPredictPlot')\n",
        "plt.legend()\n",
        "plt.ylabel('price')\n",
        "plt.xlabel('date')\n",
        "plt.show()"
      ],
      "metadata": {
        "colab": {
          "base_uri": "https://localhost:8080/",
          "height": 724
        },
        "id": "GLbR1QSoq0AC",
        "outputId": "ec3455e9-955d-4fa5-803c-620b04ac2cd9"
      },
      "execution_count": 52,
      "outputs": [
        {
          "output_type": "display_data",
          "data": {
            "text/plain": [
              "<Figure size 2000x1500 with 1 Axes>"
            ],
            "image/png": "[encoded data removed]"
          },
          "metadata": {}
        }
      ]
    },
    {
      "cell_type": "markdown",
      "source": [
        "###Make 1 days' prediciton"
      ],
      "metadata": {
        "id": "DLgj9eHbYVuT"
      }
    },
    {
      "cell_type": "code",
      "source": [
        "dataset = dataframe.values\n",
        "scaler = MinMaxScaler(feature_range=(0, 1))\n",
        "dataset = scaler.fit_transform(dataset.reshape(-1, 1))\n",
        "train = dataset[0: len(dataset)]\n",
        "trainX, trainY = creat_dataset(train, 1)\n",
        "model = Sequential()\n",
        "model.add(LSTM(units=50,input_shape=(trainX.shape[1], 1),return_sequences=True))\n",
        "model.add(Dropout(0.2))\n",
        "model.add(LSTM(50, return_sequences=True))\n",
        "model.add(Dropout(0.2))\n",
        "model.add(LSTM(100, return_sequences=True))\n",
        "model.add(Dropout(0.2))\n",
        "model.add(LSTM(300, return_sequences=False))\n",
        "model.add(Dropout(0.2))\n",
        "model.add(Dense(100))\n",
        "model.add(Dense(1, activation='relu'))\n",
        "model.compile(loss='mean_squared_error', optimizer='Adam')\n",
        "history = model.fit(trainX, trainY, batch_size=64, epochs=50, validation_split=0.1, verbose=2)"
      ],
      "metadata": {
        "colab": {
          "base_uri": "https://localhost:8080/"
        },
        "id": "2X-Z2I-AYThq",
        "outputId": "74db9d5e-3ae8-43f0-ecd1-e9996b7eeae5"
      },
      "execution_count": 112,
      "outputs": [
        {
          "output_type": "stream",
          "name": "stdout",
          "text": [
            "Epoch 1/50\n",
            "18/18 - 9s - loss: 0.0040 - val_loss: 0.1838 - 9s/epoch - 522ms/step\n",
            "Epoch 2/50\n",
            "18/18 - 0s - loss: 0.0022 - val_loss: 0.1687 - 182ms/epoch - 10ms/step\n",
            "Epoch 3/50\n",
            "18/18 - 0s - loss: 0.0021 - val_loss: 0.1679 - 180ms/epoch - 10ms/step\n",
            "Epoch 4/50\n",
            "18/18 - 0s - loss: 0.0021 - val_loss: 0.1672 - 168ms/epoch - 9ms/step\n",
            "Epoch 5/50\n",
            "18/18 - 0s - loss: 0.0021 - val_loss: 0.1747 - 188ms/epoch - 10ms/step\n",
            "Epoch 6/50\n",
            "18/18 - 0s - loss: 0.0021 - val_loss: 0.1737 - 177ms/epoch - 10ms/step\n",
            "Epoch 7/50\n",
            "18/18 - 0s - loss: 0.0021 - val_loss: 0.1648 - 185ms/epoch - 10ms/step\n",
            "Epoch 8/50\n",
            "18/18 - 0s - loss: 0.0019 - val_loss: 0.1168 - 189ms/epoch - 11ms/step\n",
            "Epoch 9/50\n",
            "18/18 - 0s - loss: 5.9921e-04 - val_loss: 0.0019 - 172ms/epoch - 10ms/step\n",
            "Epoch 10/50\n",
            "18/18 - 0s - loss: 1.7255e-04 - val_loss: 0.0014 - 178ms/epoch - 10ms/step\n",
            "Epoch 11/50\n",
            "18/18 - 0s - loss: 1.3542e-04 - val_loss: 0.0033 - 215ms/epoch - 12ms/step\n",
            "Epoch 12/50\n",
            "18/18 - 0s - loss: 1.1492e-04 - val_loss: 0.0018 - 245ms/epoch - 14ms/step\n",
            "Epoch 13/50\n",
            "18/18 - 0s - loss: 1.0114e-04 - val_loss: 0.0014 - 259ms/epoch - 14ms/step\n",
            "Epoch 14/50\n",
            "18/18 - 0s - loss: 1.1282e-04 - val_loss: 0.0015 - 226ms/epoch - 13ms/step\n",
            "Epoch 15/50\n",
            "18/18 - 0s - loss: 1.1996e-04 - val_loss: 0.0028 - 254ms/epoch - 14ms/step\n",
            "Epoch 16/50\n",
            "18/18 - 0s - loss: 1.0562e-04 - val_loss: 0.0014 - 236ms/epoch - 13ms/step\n",
            "Epoch 17/50\n",
            "18/18 - 0s - loss: 9.7035e-05 - val_loss: 0.0016 - 253ms/epoch - 14ms/step\n",
            "Epoch 18/50\n",
            "18/18 - 0s - loss: 1.0001e-04 - val_loss: 0.0013 - 251ms/epoch - 14ms/step\n",
            "Epoch 19/50\n",
            "18/18 - 0s - loss: 9.0550e-05 - val_loss: 0.0013 - 240ms/epoch - 13ms/step\n",
            "Epoch 20/50\n",
            "18/18 - 0s - loss: 9.0408e-05 - val_loss: 0.0014 - 181ms/epoch - 10ms/step\n",
            "Epoch 21/50\n",
            "18/18 - 0s - loss: 9.9414e-05 - val_loss: 0.0017 - 182ms/epoch - 10ms/step\n",
            "Epoch 22/50\n",
            "18/18 - 0s - loss: 8.8428e-05 - val_loss: 0.0019 - 174ms/epoch - 10ms/step\n",
            "Epoch 23/50\n",
            "18/18 - 0s - loss: 8.9004e-05 - val_loss: 0.0015 - 180ms/epoch - 10ms/step\n",
            "Epoch 24/50\n",
            "18/18 - 0s - loss: 8.8458e-05 - val_loss: 0.0016 - 177ms/epoch - 10ms/step\n",
            "Epoch 25/50\n",
            "18/18 - 0s - loss: 8.7579e-05 - val_loss: 0.0023 - 167ms/epoch - 9ms/step\n",
            "Epoch 26/50\n",
            "18/18 - 0s - loss: 9.6118e-05 - val_loss: 0.0028 - 172ms/epoch - 10ms/step\n",
            "Epoch 27/50\n",
            "18/18 - 0s - loss: 9.0904e-05 - val_loss: 0.0015 - 172ms/epoch - 10ms/step\n",
            "Epoch 28/50\n",
            "18/18 - 0s - loss: 8.7699e-05 - val_loss: 0.0014 - 185ms/epoch - 10ms/step\n",
            "Epoch 29/50\n",
            "18/18 - 0s - loss: 8.9356e-05 - val_loss: 0.0014 - 199ms/epoch - 11ms/step\n",
            "Epoch 30/50\n",
            "18/18 - 0s - loss: 8.7853e-05 - val_loss: 0.0028 - 167ms/epoch - 9ms/step\n",
            "Epoch 31/50\n",
            "18/18 - 0s - loss: 8.4440e-05 - val_loss: 0.0019 - 177ms/epoch - 10ms/step\n",
            "Epoch 32/50\n",
            "18/18 - 0s - loss: 8.8041e-05 - val_loss: 0.0028 - 182ms/epoch - 10ms/step\n",
            "Epoch 33/50\n",
            "18/18 - 0s - loss: 8.0780e-05 - val_loss: 0.0019 - 173ms/epoch - 10ms/step\n",
            "Epoch 34/50\n",
            "18/18 - 0s - loss: 8.1688e-05 - val_loss: 0.0013 - 180ms/epoch - 10ms/step\n",
            "Epoch 35/50\n",
            "18/18 - 0s - loss: 8.3893e-05 - val_loss: 0.0014 - 168ms/epoch - 9ms/step\n",
            "Epoch 36/50\n",
            "18/18 - 0s - loss: 8.5373e-05 - val_loss: 0.0014 - 164ms/epoch - 9ms/step\n",
            "Epoch 37/50\n",
            "18/18 - 0s - loss: 9.0457e-05 - val_loss: 0.0021 - 174ms/epoch - 10ms/step\n",
            "Epoch 38/50\n",
            "18/18 - 0s - loss: 1.0060e-04 - val_loss: 0.0025 - 181ms/epoch - 10ms/step\n",
            "Epoch 39/50\n",
            "18/18 - 0s - loss: 9.5185e-05 - val_loss: 0.0026 - 185ms/epoch - 10ms/step\n",
            "Epoch 40/50\n",
            "18/18 - 0s - loss: 8.4837e-05 - val_loss: 0.0017 - 166ms/epoch - 9ms/step\n",
            "Epoch 41/50\n",
            "18/18 - 0s - loss: 7.8562e-05 - val_loss: 0.0026 - 171ms/epoch - 10ms/step\n",
            "Epoch 42/50\n",
            "18/18 - 0s - loss: 8.3673e-05 - val_loss: 0.0024 - 167ms/epoch - 9ms/step\n",
            "Epoch 43/50\n",
            "18/18 - 0s - loss: 8.8380e-05 - val_loss: 0.0026 - 187ms/epoch - 10ms/step\n",
            "Epoch 44/50\n",
            "18/18 - 0s - loss: 8.3952e-05 - val_loss: 0.0014 - 196ms/epoch - 11ms/step\n",
            "Epoch 45/50\n",
            "18/18 - 0s - loss: 8.8037e-05 - val_loss: 0.0017 - 180ms/epoch - 10ms/step\n",
            "Epoch 46/50\n",
            "18/18 - 0s - loss: 8.0600e-05 - val_loss: 0.0025 - 165ms/epoch - 9ms/step\n",
            "Epoch 47/50\n",
            "18/18 - 0s - loss: 8.1815e-05 - val_loss: 0.0016 - 179ms/epoch - 10ms/step\n",
            "Epoch 48/50\n",
            "18/18 - 0s - loss: 8.4340e-05 - val_loss: 0.0018 - 184ms/epoch - 10ms/step\n",
            "Epoch 49/50\n",
            "18/18 - 0s - loss: 8.0448e-05 - val_loss: 0.0017 - 180ms/epoch - 10ms/step\n",
            "Epoch 50/50\n",
            "18/18 - 0s - loss: 7.7074e-05 - val_loss: 0.0021 - 180ms/epoch - 10ms/step\n"
          ]
        }
      ]
    },
    {
      "cell_type": "code",
      "source": [
        "dataset = dataframe.values\n",
        "scaler = MinMaxScaler(feature_range=(0, 1))\n",
        "dataset = scaler.fit_transform(dataset.reshape(-1, 1))\n",
        "testX = dataset[-1:].reshape(1,1,1)\n",
        "# print(testX)\n",
        "testPres = []\n",
        "# testPredict = model.predict(testX)\n",
        "# print(testPredict)\n",
        "for i in range(14):\n",
        "  testPredict = model.predict(testX)\n",
        "  testX = testPredict[0].reshape(1,1,1)\n",
        "  testPredict = scaler.inverse_transform(testPredict)\n",
        "  testPres = np.append(testPres,testPredict)"
      ],
      "metadata": {
        "colab": {
          "base_uri": "https://localhost:8080/"
        },
        "id": "MXxv3fxGY6Mg",
        "outputId": "53735f12-1801-46dd-bc0b-841d0fc7cb7f"
      },
      "execution_count": 113,
      "outputs": [
        {
          "output_type": "stream",
          "name": "stdout",
          "text": [
            "1/1 [==============================] - 1s 1s/step\n",
            "1/1 [==============================] - 0s 18ms/step\n",
            "1/1 [==============================] - 0s 18ms/step\n",
            "1/1 [==============================] - 0s 20ms/step\n",
            "1/1 [==============================] - 0s 20ms/step\n",
            "1/1 [==============================] - 0s 23ms/step\n",
            "1/1 [==============================] - 0s 21ms/step\n",
            "1/1 [==============================] - 0s 19ms/step\n",
            "1/1 [==============================] - 0s 19ms/step\n",
            "1/1 [==============================] - 0s 24ms/step\n",
            "1/1 [==============================] - 0s 21ms/step\n",
            "1/1 [==============================] - 0s 19ms/step\n",
            "1/1 [==============================] - 0s 22ms/step\n",
            "1/1 [==============================] - 0s 18ms/step\n"
          ]
        }
      ]
    },
    {
      "cell_type": "code",
      "source": [
        "dataset = dataframe.values\n",
        "plt.plot(np.arange(101,115),testPres,label = \"1 day's prediction for 1,7,14 days\")\n",
        "plt.plot(np.arange(1,101),dataset[-100:],label = 'True data')\n",
        "plt.legend()\n",
        "plt.show()"
      ],
      "metadata": {
        "colab": {
          "base_uri": "https://localhost:8080/",
          "height": 430
        },
        "id": "u9XrJuT7ZIkD",
        "outputId": "b2a98524-e91a-4bd3-8736-90b05a92726b"
      },
      "execution_count": 115,
      "outputs": [
        {
          "output_type": "display_data",
          "data": {
            "text/plain": [
              "<Figure size 640x480 with 1 Axes>"
            ],
            "image/png": "[encoded data removed]"
          },
          "metadata": {}
        }
      ]
    },
    {
      "cell_type": "markdown",
      "source": [
        "###Use 1 day to predict 1 day later, with 14+14 days predictions totally."
      ],
      "metadata": {
        "id": "9W8inWFRNqPn"
      }
    },
    {
      "cell_type": "code",
      "source": [
        "dataset = dataframe.values\n",
        "scaler = MinMaxScaler(feature_range=(0, 1))\n",
        "dataset = scaler.fit_transform(dataset.reshape(-1, 1))\n",
        "train_size = 1231\n",
        "test_size = len(dataset)-1231\n",
        "train, test = dataset[0: train_size], dataset[train_size: len(dataset)]\n",
        "trainX, trainY = creat_dataset(train, 1)\n",
        "testX, testY = creat_dataset(test, 1)\n",
        "model = Sequential()\n",
        "model.add(LSTM(units=50,input_shape=(trainX.shape[1], 1),return_sequences=True))\n",
        "model.add(Dropout(0.2))\n",
        "model.add(LSTM(50, return_sequences=True))\n",
        "model.add(Dropout(0.2))\n",
        "model.add(LSTM(100, return_sequences=True))\n",
        "model.add(Dropout(0.2))\n",
        "model.add(LSTM(300, return_sequences=False))\n",
        "model.add(Dropout(0.2))\n",
        "model.add(Dense(100))\n",
        "model.add(Dense(1, activation='relu'))\n",
        "model.compile(loss='mean_squared_error', optimizer='Adam')\n",
        "history = model.fit(trainX, trainY, batch_size=64, epochs=50, validation_split=0.1, verbose=2)"
      ],
      "metadata": {
        "colab": {
          "base_uri": "https://localhost:8080/"
        },
        "id": "bEFu5p2sNpv7",
        "outputId": "c0c51f22-f833-494c-e579-682663551e5e"
      },
      "execution_count": 78,
      "outputs": [
        {
          "output_type": "stream",
          "name": "stdout",
          "text": [
            "Epoch 1/50\n",
            "18/18 - 23s - loss: 0.0038 - val_loss: 0.1037 - 23s/epoch - 1s/step\n",
            "Epoch 2/50\n",
            "18/18 - 0s - loss: 0.0021 - val_loss: 0.0896 - 168ms/epoch - 9ms/step\n",
            "Epoch 3/50\n",
            "18/18 - 0s - loss: 0.0019 - val_loss: 0.0932 - 169ms/epoch - 9ms/step\n",
            "Epoch 4/50\n",
            "18/18 - 0s - loss: 0.0019 - val_loss: 0.0932 - 180ms/epoch - 10ms/step\n",
            "Epoch 5/50\n",
            "18/18 - 0s - loss: 0.0019 - val_loss: 0.0969 - 184ms/epoch - 10ms/step\n",
            "Epoch 6/50\n",
            "18/18 - 0s - loss: 0.0019 - val_loss: 0.0918 - 305ms/epoch - 17ms/step\n",
            "Epoch 7/50\n",
            "18/18 - 0s - loss: 0.0019 - val_loss: 0.0906 - 267ms/epoch - 15ms/step\n",
            "Epoch 8/50\n",
            "18/18 - 0s - loss: 0.0019 - val_loss: 0.0879 - 262ms/epoch - 15ms/step\n",
            "Epoch 9/50\n",
            "18/18 - 0s - loss: 0.0019 - val_loss: 0.0801 - 179ms/epoch - 10ms/step\n",
            "Epoch 10/50\n",
            "18/18 - 0s - loss: 0.0011 - val_loss: 0.0015 - 309ms/epoch - 17ms/step\n",
            "Epoch 11/50\n",
            "18/18 - 0s - loss: 2.3730e-04 - val_loss: 0.0065 - 260ms/epoch - 14ms/step\n",
            "Epoch 12/50\n",
            "18/18 - 0s - loss: 1.3563e-04 - val_loss: 0.0011 - 269ms/epoch - 15ms/step\n",
            "Epoch 13/50\n",
            "18/18 - 0s - loss: 1.1145e-04 - val_loss: 0.0010 - 307ms/epoch - 17ms/step\n",
            "Epoch 14/50\n",
            "18/18 - 0s - loss: 9.3673e-05 - val_loss: 9.4957e-04 - 242ms/epoch - 13ms/step\n",
            "Epoch 15/50\n",
            "18/18 - 0s - loss: 1.0090e-04 - val_loss: 9.8491e-04 - 194ms/epoch - 11ms/step\n",
            "Epoch 16/50\n",
            "18/18 - 0s - loss: 8.8973e-05 - val_loss: 0.0011 - 173ms/epoch - 10ms/step\n",
            "Epoch 17/50\n",
            "18/18 - 0s - loss: 9.2880e-05 - val_loss: 0.0011 - 192ms/epoch - 11ms/step\n",
            "Epoch 18/50\n",
            "18/18 - 0s - loss: 8.7842e-05 - val_loss: 0.0011 - 306ms/epoch - 17ms/step\n",
            "Epoch 19/50\n",
            "18/18 - 0s - loss: 1.0348e-04 - val_loss: 0.0010 - 265ms/epoch - 15ms/step\n",
            "Epoch 20/50\n",
            "18/18 - 0s - loss: 9.0712e-05 - val_loss: 0.0010 - 168ms/epoch - 9ms/step\n",
            "Epoch 21/50\n",
            "18/18 - 0s - loss: 9.2735e-05 - val_loss: 0.0013 - 180ms/epoch - 10ms/step\n",
            "Epoch 22/50\n",
            "18/18 - 0s - loss: 9.6481e-05 - val_loss: 0.0011 - 185ms/epoch - 10ms/step\n",
            "Epoch 23/50\n",
            "18/18 - 0s - loss: 8.1027e-05 - val_loss: 0.0010 - 220ms/epoch - 12ms/step\n",
            "Epoch 24/50\n",
            "18/18 - 0s - loss: 8.5119e-05 - val_loss: 9.4587e-04 - 176ms/epoch - 10ms/step\n",
            "Epoch 25/50\n",
            "18/18 - 0s - loss: 8.6716e-05 - val_loss: 9.4994e-04 - 207ms/epoch - 11ms/step\n",
            "Epoch 26/50\n",
            "18/18 - 0s - loss: 9.4636e-05 - val_loss: 0.0015 - 292ms/epoch - 16ms/step\n",
            "Epoch 27/50\n",
            "18/18 - 0s - loss: 9.4285e-05 - val_loss: 0.0013 - 280ms/epoch - 16ms/step\n",
            "Epoch 28/50\n",
            "18/18 - 0s - loss: 9.2642e-05 - val_loss: 9.2528e-04 - 322ms/epoch - 18ms/step\n",
            "Epoch 29/50\n",
            "18/18 - 0s - loss: 8.7417e-05 - val_loss: 0.0010 - 181ms/epoch - 10ms/step\n",
            "Epoch 30/50\n",
            "18/18 - 0s - loss: 7.9975e-05 - val_loss: 9.2335e-04 - 224ms/epoch - 12ms/step\n",
            "Epoch 31/50\n",
            "18/18 - 0s - loss: 8.7021e-05 - val_loss: 0.0011 - 203ms/epoch - 11ms/step\n",
            "Epoch 32/50\n",
            "18/18 - 0s - loss: 9.1370e-05 - val_loss: 0.0010 - 175ms/epoch - 10ms/step\n",
            "Epoch 33/50\n",
            "18/18 - 0s - loss: 7.5110e-05 - val_loss: 9.5078e-04 - 251ms/epoch - 14ms/step\n",
            "Epoch 34/50\n",
            "18/18 - 0s - loss: 8.4656e-05 - val_loss: 0.0013 - 286ms/epoch - 16ms/step\n",
            "Epoch 35/50\n",
            "18/18 - 0s - loss: 8.6153e-05 - val_loss: 0.0010 - 366ms/epoch - 20ms/step\n",
            "Epoch 36/50\n",
            "18/18 - 0s - loss: 7.4009e-05 - val_loss: 9.6685e-04 - 371ms/epoch - 21ms/step\n",
            "Epoch 37/50\n",
            "18/18 - 0s - loss: 7.4008e-05 - val_loss: 0.0010 - 400ms/epoch - 22ms/step\n",
            "Epoch 38/50\n",
            "18/18 - 0s - loss: 7.9414e-05 - val_loss: 9.8056e-04 - 344ms/epoch - 19ms/step\n",
            "Epoch 39/50\n",
            "18/18 - 0s - loss: 8.2757e-05 - val_loss: 0.0011 - 308ms/epoch - 17ms/step\n",
            "Epoch 40/50\n",
            "18/18 - 0s - loss: 7.8617e-05 - val_loss: 0.0012 - 380ms/epoch - 21ms/step\n",
            "Epoch 41/50\n",
            "18/18 - 0s - loss: 1.0108e-04 - val_loss: 0.0010 - 282ms/epoch - 16ms/step\n",
            "Epoch 42/50\n",
            "18/18 - 0s - loss: 7.7941e-05 - val_loss: 9.7448e-04 - 259ms/epoch - 14ms/step\n",
            "Epoch 43/50\n",
            "18/18 - 0s - loss: 8.5653e-05 - val_loss: 9.0732e-04 - 242ms/epoch - 13ms/step\n",
            "Epoch 44/50\n",
            "18/18 - 0s - loss: 9.7101e-05 - val_loss: 0.0010 - 370ms/epoch - 21ms/step\n",
            "Epoch 45/50\n",
            "18/18 - 0s - loss: 8.0068e-05 - val_loss: 0.0014 - 429ms/epoch - 24ms/step\n",
            "Epoch 46/50\n",
            "18/18 - 0s - loss: 7.7230e-05 - val_loss: 0.0012 - 219ms/epoch - 12ms/step\n",
            "Epoch 47/50\n",
            "18/18 - 0s - loss: 8.4853e-05 - val_loss: 0.0013 - 237ms/epoch - 13ms/step\n",
            "Epoch 48/50\n",
            "18/18 - 0s - loss: 8.0000e-05 - val_loss: 0.0016 - 204ms/epoch - 11ms/step\n",
            "Epoch 49/50\n",
            "18/18 - 0s - loss: 7.7511e-05 - val_loss: 9.8646e-04 - 209ms/epoch - 12ms/step\n",
            "Epoch 50/50\n",
            "18/18 - 0s - loss: 7.3274e-05 - val_loss: 9.0985e-04 - 180ms/epoch - 10ms/step\n"
          ]
        }
      ]
    },
    {
      "cell_type": "code",
      "source": [
        "trainPredict = model.predict(trainX)\n",
        "testPredict = model.predict(testX)\n",
        "trainPredict = scaler.inverse_transform(trainPredict)\n",
        "trainY = scaler.inverse_transform(trainY)\n",
        "testPredict = scaler.inverse_transform(testPredict)\n",
        "testY = scaler.inverse_transform(testY)\n",
        "trainScore = math.sqrt(mean_squared_error(trainY, trainPredict[:, 0]))\n",
        "print('Train Sccore %.2f RMSE' %(trainScore))\n",
        "testScore = math.sqrt(mean_squared_error(testY, testPredict[:, 0]))\n",
        "print('Train Sccore %.2f RMSE' %(testScore))"
      ],
      "metadata": {
        "colab": {
          "base_uri": "https://localhost:8080/"
        },
        "id": "HcXls1rdN_bu",
        "outputId": "afc811c6-4ef9-4a1d-f3c6-5fc2bddce657"
      },
      "execution_count": 79,
      "outputs": [
        {
          "output_type": "stream",
          "name": "stdout",
          "text": [
            "39/39 [==============================] - 2s 5ms/step\n",
            "1/1 [==============================] - 0s 18ms/step\n",
            "Train Sccore 2.92 RMSE\n",
            "Train Sccore 12.95 RMSE\n"
          ]
        }
      ]
    },
    {
      "cell_type": "code",
      "source": [
        "dataset = dataframe.values\n",
        "scaler = MinMaxScaler(feature_range=(0, 1))\n",
        "dataset = scaler.fit_transform(dataset.reshape(-1, 1))\n",
        "testY = dataset[-14:]\n",
        "testY = scaler.inverse_transform(testY)\n",
        "testX = dataset[-29:-28].reshape(1,1,1)\n",
        "# print(testX)\n",
        "testPres = []\n",
        "# testPredict = model.predict(testX)\n",
        "# print(testPredict)\n",
        "for i in range(28):\n",
        "  testPredict = model.predict(testX)\n",
        "  testX = testPredict[0].reshape(1,1,1)\n",
        "  testPredict = scaler.inverse_transform(testPredict)\n",
        "  testPres = np.append(testPres,testPredict)"
      ],
      "metadata": {
        "colab": {
          "base_uri": "https://localhost:8080/"
        },
        "id": "N716YLUsOJjJ",
        "outputId": "7636353b-f694-4fa9-df24-f430a43e5bfa"
      },
      "execution_count": 80,
      "outputs": [
        {
          "output_type": "stream",
          "name": "stdout",
          "text": [
            "1/1 [==============================] - 0s 47ms/step\n",
            "1/1 [==============================] - 0s 48ms/step\n",
            "1/1 [==============================] - 0s 42ms/step\n",
            "1/1 [==============================] - 0s 20ms/step\n",
            "1/1 [==============================] - 0s 22ms/step\n",
            "1/1 [==============================] - 0s 20ms/step\n",
            "1/1 [==============================] - 0s 23ms/step\n",
            "1/1 [==============================] - 0s 33ms/step\n",
            "1/1 [==============================] - 0s 23ms/step\n",
            "1/1 [==============================] - 0s 23ms/step\n",
            "1/1 [==============================] - 0s 19ms/step\n",
            "1/1 [==============================] - 0s 22ms/step\n",
            "1/1 [==============================] - 0s 26ms/step\n",
            "1/1 [==============================] - 0s 22ms/step\n",
            "1/1 [==============================] - 0s 19ms/step\n",
            "1/1 [==============================] - 0s 18ms/step\n",
            "1/1 [==============================] - 0s 19ms/step\n",
            "1/1 [==============================] - 0s 18ms/step\n",
            "1/1 [==============================] - 0s 20ms/step\n",
            "1/1 [==============================] - 0s 20ms/step\n",
            "1/1 [==============================] - 0s 21ms/step\n",
            "1/1 [==============================] - 0s 23ms/step\n",
            "1/1 [==============================] - 0s 23ms/step\n",
            "1/1 [==============================] - 0s 20ms/step\n",
            "1/1 [==============================] - 0s 36ms/step\n",
            "1/1 [==============================] - 0s 21ms/step\n",
            "1/1 [==============================] - 0s 21ms/step\n",
            "1/1 [==============================] - 0s 21ms/step\n"
          ]
        }
      ]
    },
    {
      "cell_type": "code",
      "source": [
        "print(testPres[-14:])\n",
        "print(testY.reshape(-1,14))\n",
        "testScore = math.sqrt(mean_squared_error(testY, testPres[-14:].reshape(14,1)))\n",
        "print('Train Sccore %.2f RMSE' %(testScore))\n",
        "\n",
        "testPres_1 = testPres\n",
        "testScore_1 = testScore\n"
      ],
      "metadata": {
        "colab": {
          "base_uri": "https://localhost:8080/"
        },
        "id": "kw2bAESjOqlj",
        "outputId": "ce65ce68-91bf-43d1-b29d-d96dc3afe174"
      },
      "execution_count": 81,
      "outputs": [
        {
          "output_type": "stream",
          "name": "stdout",
          "text": [
            "[164.5725708  164.47612    164.38522339 164.29957581 164.21882629\n",
            " 164.14271545 164.07096863 164.00331116 163.93952942 163.87939453\n",
            " 163.82266235 163.76916504 163.71867371 163.67108154]\n",
            "[[200.179993 198.863998 200.356003 192.169998 197.195999 191.947998\n",
            "  201.869995 215.962006 223.925995 241.731995 274.31601  277.971985\n",
            "  273.175995 278.855988]]\n",
            "Train Sccore 71.05 RMSE\n"
          ]
        }
      ]
    },
    {
      "cell_type": "markdown",
      "source": [
        "###Use 7 days to predict 7 days later, with 14+14 days predictions totally."
      ],
      "metadata": {
        "id": "M6_2PUAwKOuI"
      }
    },
    {
      "cell_type": "code",
      "source": [
        "dataset = dataframe.values\n",
        "scaler = MinMaxScaler(feature_range=(0, 1))\n",
        "dataset = scaler.fit_transform(dataset.reshape(-1, 1))\n",
        "train_size = 1231\n",
        "test_size = len(dataset)-1231\n",
        "train, test = dataset[0: train_size], dataset[train_size: len(dataset)]\n",
        "trainX, trainY = creat_dataset(train, look_back)\n",
        "testX, testY = creat_dataset(test, look_back)\n",
        "model = Sequential()\n",
        "model.add(LSTM(units=50,input_shape=(trainX.shape[1], 1),return_sequences=True))\n",
        "model.add(Dropout(0.2))\n",
        "model.add(LSTM(50, return_sequences=True))\n",
        "model.add(Dropout(0.2))\n",
        "model.add(LSTM(100, return_sequences=True))\n",
        "model.add(Dropout(0.2))\n",
        "model.add(LSTM(300, return_sequences=False))\n",
        "model.add(Dropout(0.2))\n",
        "model.add(Dense(100))\n",
        "model.add(Dense(1, activation='relu'))\n",
        "model.compile(loss='mean_squared_error', optimizer='Adam')\n",
        "history = model.fit(trainX, trainY, batch_size=64, epochs=50, validation_split=0.1, verbose=2)"
      ],
      "metadata": {
        "colab": {
          "base_uri": "https://localhost:8080/"
        },
        "id": "ySNJEI8tZkOm",
        "outputId": "ef4429d2-8c0d-459c-b9b0-ca0481cc31c4"
      },
      "execution_count": 82,
      "outputs": [
        {
          "output_type": "stream",
          "name": "stdout",
          "text": [
            "Epoch 1/50\n",
            "18/18 - 9s - loss: 0.0030 - val_loss: 0.0742 - 9s/epoch - 512ms/step\n",
            "Epoch 2/50\n",
            "18/18 - 0s - loss: 0.0014 - val_loss: 0.0232 - 192ms/epoch - 11ms/step\n",
            "Epoch 3/50\n",
            "18/18 - 0s - loss: 3.6461e-04 - val_loss: 0.0150 - 196ms/epoch - 11ms/step\n",
            "Epoch 4/50\n",
            "18/18 - 0s - loss: 2.8810e-04 - val_loss: 0.0060 - 186ms/epoch - 10ms/step\n",
            "Epoch 5/50\n",
            "18/18 - 0s - loss: 2.6536e-04 - val_loss: 0.0050 - 183ms/epoch - 10ms/step\n",
            "Epoch 6/50\n",
            "18/18 - 0s - loss: 2.2446e-04 - val_loss: 0.0066 - 189ms/epoch - 10ms/step\n",
            "Epoch 7/50\n",
            "18/18 - 0s - loss: 2.3586e-04 - val_loss: 0.0049 - 183ms/epoch - 10ms/step\n",
            "Epoch 8/50\n",
            "18/18 - 0s - loss: 2.0675e-04 - val_loss: 0.0057 - 170ms/epoch - 9ms/step\n",
            "Epoch 9/50\n",
            "18/18 - 0s - loss: 2.1370e-04 - val_loss: 0.0055 - 221ms/epoch - 12ms/step\n",
            "Epoch 10/50\n",
            "18/18 - 0s - loss: 2.0704e-04 - val_loss: 0.0062 - 183ms/epoch - 10ms/step\n",
            "Epoch 11/50\n",
            "18/18 - 0s - loss: 2.0542e-04 - val_loss: 0.0063 - 186ms/epoch - 10ms/step\n",
            "Epoch 12/50\n",
            "18/18 - 0s - loss: 2.0867e-04 - val_loss: 0.0049 - 170ms/epoch - 9ms/step\n",
            "Epoch 13/50\n",
            "18/18 - 0s - loss: 2.1702e-04 - val_loss: 0.0065 - 191ms/epoch - 11ms/step\n",
            "Epoch 14/50\n",
            "18/18 - 0s - loss: 2.1058e-04 - val_loss: 0.0050 - 181ms/epoch - 10ms/step\n",
            "Epoch 15/50\n",
            "18/18 - 0s - loss: 2.0565e-04 - val_loss: 0.0061 - 174ms/epoch - 10ms/step\n",
            "Epoch 16/50\n",
            "18/18 - 0s - loss: 2.2700e-04 - val_loss: 0.0045 - 175ms/epoch - 10ms/step\n",
            "Epoch 17/50\n",
            "18/18 - 0s - loss: 2.1244e-04 - val_loss: 0.0060 - 179ms/epoch - 10ms/step\n",
            "Epoch 18/50\n",
            "18/18 - 0s - loss: 1.8262e-04 - val_loss: 0.0061 - 181ms/epoch - 10ms/step\n",
            "Epoch 19/50\n",
            "18/18 - 0s - loss: 1.8920e-04 - val_loss: 0.0058 - 188ms/epoch - 10ms/step\n",
            "Epoch 20/50\n",
            "18/18 - 0s - loss: 1.9240e-04 - val_loss: 0.0043 - 191ms/epoch - 11ms/step\n",
            "Epoch 21/50\n",
            "18/18 - 0s - loss: 1.9122e-04 - val_loss: 0.0050 - 198ms/epoch - 11ms/step\n",
            "Epoch 22/50\n",
            "18/18 - 0s - loss: 1.8261e-04 - val_loss: 0.0045 - 183ms/epoch - 10ms/step\n",
            "Epoch 23/50\n",
            "18/18 - 0s - loss: 1.9416e-04 - val_loss: 0.0041 - 195ms/epoch - 11ms/step\n",
            "Epoch 24/50\n",
            "18/18 - 0s - loss: 1.9443e-04 - val_loss: 0.0049 - 189ms/epoch - 10ms/step\n",
            "Epoch 25/50\n",
            "18/18 - 0s - loss: 1.8873e-04 - val_loss: 0.0077 - 187ms/epoch - 10ms/step\n",
            "Epoch 26/50\n",
            "18/18 - 0s - loss: 1.7311e-04 - val_loss: 0.0038 - 180ms/epoch - 10ms/step\n",
            "Epoch 27/50\n",
            "18/18 - 0s - loss: 1.8991e-04 - val_loss: 0.0051 - 222ms/epoch - 12ms/step\n",
            "Epoch 28/50\n",
            "18/18 - 0s - loss: 1.7286e-04 - val_loss: 0.0064 - 263ms/epoch - 15ms/step\n",
            "Epoch 29/50\n",
            "18/18 - 0s - loss: 1.8129e-04 - val_loss: 0.0047 - 246ms/epoch - 14ms/step\n",
            "Epoch 30/50\n",
            "18/18 - 0s - loss: 1.8062e-04 - val_loss: 0.0049 - 254ms/epoch - 14ms/step\n",
            "Epoch 31/50\n",
            "18/18 - 0s - loss: 1.7146e-04 - val_loss: 0.0054 - 270ms/epoch - 15ms/step\n",
            "Epoch 32/50\n",
            "18/18 - 0s - loss: 1.4927e-04 - val_loss: 0.0039 - 265ms/epoch - 15ms/step\n",
            "Epoch 33/50\n",
            "18/18 - 0s - loss: 1.4988e-04 - val_loss: 0.0042 - 250ms/epoch - 14ms/step\n",
            "Epoch 34/50\n",
            "18/18 - 0s - loss: 1.5640e-04 - val_loss: 0.0043 - 263ms/epoch - 15ms/step\n",
            "Epoch 35/50\n",
            "18/18 - 0s - loss: 1.5849e-04 - val_loss: 0.0034 - 255ms/epoch - 14ms/step\n",
            "Epoch 36/50\n",
            "18/18 - 0s - loss: 1.4916e-04 - val_loss: 0.0032 - 194ms/epoch - 11ms/step\n",
            "Epoch 37/50\n",
            "18/18 - 0s - loss: 1.4625e-04 - val_loss: 0.0032 - 184ms/epoch - 10ms/step\n",
            "Epoch 38/50\n",
            "18/18 - 0s - loss: 1.4323e-04 - val_loss: 0.0035 - 183ms/epoch - 10ms/step\n",
            "Epoch 39/50\n",
            "18/18 - 0s - loss: 1.4143e-04 - val_loss: 0.0033 - 178ms/epoch - 10ms/step\n",
            "Epoch 40/50\n",
            "18/18 - 0s - loss: 1.3344e-04 - val_loss: 0.0046 - 177ms/epoch - 10ms/step\n",
            "Epoch 41/50\n",
            "18/18 - 0s - loss: 1.2858e-04 - val_loss: 0.0028 - 178ms/epoch - 10ms/step\n",
            "Epoch 42/50\n",
            "18/18 - 0s - loss: 1.3886e-04 - val_loss: 0.0025 - 205ms/epoch - 11ms/step\n",
            "Epoch 43/50\n",
            "18/18 - 0s - loss: 1.4022e-04 - val_loss: 0.0029 - 180ms/epoch - 10ms/step\n",
            "Epoch 44/50\n",
            "18/18 - 0s - loss: 1.3667e-04 - val_loss: 0.0024 - 184ms/epoch - 10ms/step\n",
            "Epoch 45/50\n",
            "18/18 - 0s - loss: 1.2849e-04 - val_loss: 0.0050 - 180ms/epoch - 10ms/step\n",
            "Epoch 46/50\n",
            "18/18 - 0s - loss: 1.3415e-04 - val_loss: 0.0023 - 187ms/epoch - 10ms/step\n",
            "Epoch 47/50\n",
            "18/18 - 0s - loss: 1.3904e-04 - val_loss: 0.0033 - 189ms/epoch - 11ms/step\n",
            "Epoch 48/50\n",
            "18/18 - 0s - loss: 1.3351e-04 - val_loss: 0.0025 - 179ms/epoch - 10ms/step\n",
            "Epoch 49/50\n",
            "18/18 - 0s - loss: 1.2011e-04 - val_loss: 0.0034 - 188ms/epoch - 10ms/step\n",
            "Epoch 50/50\n",
            "18/18 - 0s - loss: 1.0574e-04 - val_loss: 0.0035 - 185ms/epoch - 10ms/step\n"
          ]
        }
      ]
    },
    {
      "cell_type": "code",
      "source": [
        "trainPredict = model.predict(trainX)\n",
        "testPredict = model.predict(testX)\n",
        "trainPredict = scaler.inverse_transform(trainPredict)\n",
        "trainY = scaler.inverse_transform(trainY)\n",
        "testPredict = scaler.inverse_transform(testPredict)\n",
        "testY = scaler.inverse_transform(testY)\n",
        "trainScore = math.sqrt(mean_squared_error(trainY, trainPredict[:, 0]))\n",
        "print('Train Sccore %.2f RMSE' %(trainScore))\n",
        "testScore = math.sqrt(mean_squared_error(testY, testPredict[:, 0]))\n",
        "print('Train Sccore %.2f RMSE' %(testScore))"
      ],
      "metadata": {
        "colab": {
          "base_uri": "https://localhost:8080/"
        },
        "id": "FA1ifgM2Z0dT",
        "outputId": "cdbdd3ea-4a67-4678-a327-57ee20b03ac3"
      },
      "execution_count": 83,
      "outputs": [
        {
          "output_type": "stream",
          "name": "stdout",
          "text": [
            "39/39 [==============================] - 1s 4ms/step\n",
            "1/1 [==============================] - 0s 20ms/step\n",
            "Train Sccore 5.23 RMSE\n",
            "Train Sccore 36.29 RMSE\n"
          ]
        }
      ]
    },
    {
      "cell_type": "code",
      "source": [
        "dataset = dataframe.values\n",
        "scaler = MinMaxScaler(feature_range=(0, 1))\n",
        "dataset = scaler.fit_transform(dataset.reshape(-1, 1))\n",
        "testY = dataset[-14:]\n",
        "testY = scaler.inverse_transform(testY)\n",
        "testX = dataset[-35:-28].reshape(1,7,1)\n",
        "# print(testX)\n",
        "testPres = []\n",
        "# testPredict = model.predict(testX)\n",
        "# print(testPredict)\n",
        "for i in range(28):\n",
        "  testPredict = model.predict(testX)\n",
        "  testX = np.append(testX[0][-6:],testPredict[0]).reshape(1,7,1)\n",
        "  testPredict = scaler.inverse_transform(testPredict)\n",
        "  testPres = np.append(testPres,testPredict)\n",
        "\n",
        "# testScore = math.sqrt(mean_squared_error(testY, testPredict[:, 0]))\n",
        "# print('Train Sccore %.2f RMSE' %(testScore))\n",
        "\n"
      ],
      "metadata": {
        "colab": {
          "base_uri": "https://localhost:8080/"
        },
        "id": "G7sXc9Z5WmPU",
        "outputId": "0711c0b2-fe3e-498b-a6e5-cfb3195dd1bd"
      },
      "execution_count": 84,
      "outputs": [
        {
          "output_type": "stream",
          "name": "stdout",
          "text": [
            "1/1 [==============================] - 0s 21ms/step\n",
            "1/1 [==============================] - 0s 23ms/step\n",
            "1/1 [==============================] - 0s 19ms/step\n",
            "1/1 [==============================] - 0s 19ms/step\n",
            "1/1 [==============================] - 0s 23ms/step\n",
            "1/1 [==============================] - 0s 19ms/step\n",
            "1/1 [==============================] - 0s 22ms/step\n",
            "1/1 [==============================] - 0s 23ms/step\n",
            "1/1 [==============================] - 0s 19ms/step\n",
            "1/1 [==============================] - 0s 20ms/step\n",
            "1/1 [==============================] - 0s 21ms/step\n",
            "1/1 [==============================] - 0s 26ms/step\n",
            "1/1 [==============================] - 0s 20ms/step\n",
            "1/1 [==============================] - 0s 19ms/step\n",
            "1/1 [==============================] - 0s 20ms/step\n",
            "1/1 [==============================] - 0s 23ms/step\n",
            "1/1 [==============================] - 0s 18ms/step\n",
            "1/1 [==============================] - 0s 19ms/step\n",
            "1/1 [==============================] - 0s 18ms/step\n",
            "1/1 [==============================] - 0s 20ms/step\n",
            "1/1 [==============================] - 0s 18ms/step\n",
            "1/1 [==============================] - 0s 18ms/step\n",
            "1/1 [==============================] - 0s 20ms/step\n",
            "1/1 [==============================] - 0s 21ms/step\n",
            "1/1 [==============================] - 0s 24ms/step\n",
            "1/1 [==============================] - 0s 20ms/step\n",
            "1/1 [==============================] - 0s 23ms/step\n",
            "1/1 [==============================] - 0s 21ms/step\n"
          ]
        }
      ]
    },
    {
      "cell_type": "code",
      "source": [
        "print(testPres[-14:])\n",
        "print(testY.reshape(-1,7))\n",
        "testScore = math.sqrt(mean_squared_error(testY, testPres[-14:].reshape(14,1)))\n",
        "print('Train Sccore %.2f RMSE' %(testScore))\n",
        "testPres_7 = testPres\n",
        "testScore_7 = testScore"
      ],
      "metadata": {
        "colab": {
          "base_uri": "https://localhost:8080/"
        },
        "id": "LCBV0u3biJSS",
        "outputId": "90942cf4-07ce-4e99-a87f-79b45e0c1a50"
      },
      "execution_count": 85,
      "outputs": [
        {
          "output_type": "stream",
          "name": "stdout",
          "text": [
            "[106.08450317 103.88919067 101.79612732  99.80131531  97.90005493\n",
            "  96.08672333  94.3558197   92.70230103  91.12152863  89.60977173\n",
            "  88.16306305  86.77779388  85.45066833  84.17862701]\n",
            "[[200.179993 198.863998 200.356003 192.169998 197.195999 191.947998\n",
            "  201.869995]\n",
            " [215.962006 223.925995 241.731995 274.31601  277.971985 273.175995\n",
            "  278.855988]]\n",
            "Train Sccore 138.11 RMSE\n"
          ]
        }
      ]
    },
    {
      "cell_type": "markdown",
      "source": [
        "###Use 14 days to predict 14 days later, with 14+14 days predictions totally."
      ],
      "metadata": {
        "id": "B_gWG4v3O347"
      }
    },
    {
      "cell_type": "code",
      "source": [
        "dataset = dataframe.values\n",
        "scaler = MinMaxScaler(feature_range=(0, 1))\n",
        "dataset = scaler.fit_transform(dataset.reshape(-1, 1))\n",
        "train_size = 1231\n",
        "test_size = len(dataset)-1231\n",
        "train, test = dataset[0: train_size], dataset[train_size: len(dataset)]\n",
        "trainX, trainY = creat_dataset(train, 14)\n",
        "testX, testY = creat_dataset(test, 14)\n",
        "model = Sequential()\n",
        "model.add(LSTM(units=50,input_shape=(trainX.shape[1], 1),return_sequences=True))\n",
        "model.add(Dropout(0.2))\n",
        "model.add(LSTM(50, return_sequences=True))\n",
        "model.add(Dropout(0.2))\n",
        "model.add(LSTM(100, return_sequences=True))\n",
        "model.add(Dropout(0.2))\n",
        "model.add(LSTM(300, return_sequences=False))\n",
        "model.add(Dropout(0.2))\n",
        "model.add(Dense(100))\n",
        "model.add(Dense(1, activation='relu'))\n",
        "model.compile(loss='mean_squared_error', optimizer='Adam')\n",
        "history = model.fit(trainX, trainY, batch_size=64, epochs=50, validation_split=0.1, verbose=2)"
      ],
      "metadata": {
        "colab": {
          "base_uri": "https://localhost:8080/"
        },
        "id": "xecvOMaIO4Vx",
        "outputId": "2f4ca18c-1bf8-40fd-f154-8ac9ab03f736"
      },
      "execution_count": 86,
      "outputs": [
        {
          "output_type": "stream",
          "name": "stdout",
          "text": [
            "Epoch 1/50\n",
            "18/18 - 9s - loss: 0.0024 - val_loss: 0.0215 - 9s/epoch - 481ms/step\n",
            "Epoch 2/50\n",
            "18/18 - 0s - loss: 4.7783e-04 - val_loss: 0.0172 - 206ms/epoch - 11ms/step\n",
            "Epoch 3/50\n",
            "18/18 - 0s - loss: 3.7752e-04 - val_loss: 0.0114 - 318ms/epoch - 18ms/step\n",
            "Epoch 4/50\n",
            "18/18 - 0s - loss: 3.3390e-04 - val_loss: 0.0106 - 404ms/epoch - 22ms/step\n",
            "Epoch 5/50\n",
            "18/18 - 0s - loss: 3.1329e-04 - val_loss: 0.0082 - 286ms/epoch - 16ms/step\n",
            "Epoch 6/50\n",
            "18/18 - 0s - loss: 3.1668e-04 - val_loss: 0.0087 - 288ms/epoch - 16ms/step\n",
            "Epoch 7/50\n",
            "18/18 - 0s - loss: 2.9876e-04 - val_loss: 0.0094 - 374ms/epoch - 21ms/step\n",
            "Epoch 8/50\n",
            "18/18 - 0s - loss: 3.4098e-04 - val_loss: 0.0065 - 443ms/epoch - 25ms/step\n",
            "Epoch 9/50\n",
            "18/18 - 1s - loss: 3.7773e-04 - val_loss: 0.0083 - 565ms/epoch - 31ms/step\n",
            "Epoch 10/50\n",
            "18/18 - 0s - loss: 2.8039e-04 - val_loss: 0.0086 - 470ms/epoch - 26ms/step\n",
            "Epoch 11/50\n",
            "18/18 - 0s - loss: 2.5701e-04 - val_loss: 0.0059 - 361ms/epoch - 20ms/step\n",
            "Epoch 12/50\n",
            "18/18 - 0s - loss: 2.8741e-04 - val_loss: 0.0107 - 427ms/epoch - 24ms/step\n",
            "Epoch 13/50\n",
            "18/18 - 0s - loss: 2.6140e-04 - val_loss: 0.0064 - 353ms/epoch - 20ms/step\n",
            "Epoch 14/50\n",
            "18/18 - 0s - loss: 2.3070e-04 - val_loss: 0.0066 - 459ms/epoch - 25ms/step\n",
            "Epoch 15/50\n",
            "18/18 - 0s - loss: 2.1308e-04 - val_loss: 0.0051 - 299ms/epoch - 17ms/step\n",
            "Epoch 16/50\n",
            "18/18 - 0s - loss: 2.0302e-04 - val_loss: 0.0051 - 305ms/epoch - 17ms/step\n",
            "Epoch 17/50\n",
            "18/18 - 0s - loss: 2.0115e-04 - val_loss: 0.0041 - 285ms/epoch - 16ms/step\n",
            "Epoch 18/50\n",
            "18/18 - 0s - loss: 2.4974e-04 - val_loss: 0.0048 - 402ms/epoch - 22ms/step\n",
            "Epoch 19/50\n",
            "18/18 - 0s - loss: 1.9399e-04 - val_loss: 0.0041 - 470ms/epoch - 26ms/step\n",
            "Epoch 20/50\n",
            "18/18 - 1s - loss: 2.2478e-04 - val_loss: 0.0044 - 621ms/epoch - 35ms/step\n",
            "Epoch 21/50\n",
            "18/18 - 1s - loss: 1.7487e-04 - val_loss: 0.0040 - 568ms/epoch - 32ms/step\n",
            "Epoch 22/50\n",
            "18/18 - 1s - loss: 1.6742e-04 - val_loss: 0.0053 - 625ms/epoch - 35ms/step\n",
            "Epoch 23/50\n",
            "18/18 - 1s - loss: 1.8284e-04 - val_loss: 0.0052 - 630ms/epoch - 35ms/step\n",
            "Epoch 24/50\n",
            "18/18 - 0s - loss: 1.9884e-04 - val_loss: 0.0059 - 379ms/epoch - 21ms/step\n",
            "Epoch 25/50\n",
            "18/18 - 0s - loss: 1.8321e-04 - val_loss: 0.0040 - 285ms/epoch - 16ms/step\n",
            "Epoch 26/50\n",
            "18/18 - 0s - loss: 1.6195e-04 - val_loss: 0.0041 - 325ms/epoch - 18ms/step\n",
            "Epoch 27/50\n",
            "18/18 - 0s - loss: 1.9157e-04 - val_loss: 0.0039 - 305ms/epoch - 17ms/step\n",
            "Epoch 28/50\n",
            "18/18 - 0s - loss: 1.5130e-04 - val_loss: 0.0044 - 327ms/epoch - 18ms/step\n",
            "Epoch 29/50\n",
            "18/18 - 0s - loss: 1.5838e-04 - val_loss: 0.0056 - 297ms/epoch - 16ms/step\n",
            "Epoch 30/50\n",
            "18/18 - 0s - loss: 1.5237e-04 - val_loss: 0.0028 - 295ms/epoch - 16ms/step\n",
            "Epoch 31/50\n",
            "18/18 - 0s - loss: 1.6782e-04 - val_loss: 0.0036 - 290ms/epoch - 16ms/step\n",
            "Epoch 32/50\n",
            "18/18 - 0s - loss: 1.3958e-04 - val_loss: 0.0028 - 316ms/epoch - 18ms/step\n",
            "Epoch 33/50\n",
            "18/18 - 0s - loss: 1.7713e-04 - val_loss: 0.0030 - 261ms/epoch - 14ms/step\n",
            "Epoch 34/50\n",
            "18/18 - 0s - loss: 1.7122e-04 - val_loss: 0.0044 - 278ms/epoch - 15ms/step\n",
            "Epoch 35/50\n",
            "18/18 - 0s - loss: 1.4588e-04 - val_loss: 0.0051 - 207ms/epoch - 11ms/step\n",
            "Epoch 36/50\n",
            "18/18 - 0s - loss: 1.4211e-04 - val_loss: 0.0031 - 199ms/epoch - 11ms/step\n",
            "Epoch 37/50\n",
            "18/18 - 0s - loss: 1.2715e-04 - val_loss: 0.0026 - 209ms/epoch - 12ms/step\n",
            "Epoch 38/50\n",
            "18/18 - 0s - loss: 1.4638e-04 - val_loss: 0.0042 - 201ms/epoch - 11ms/step\n",
            "Epoch 39/50\n",
            "18/18 - 0s - loss: 1.5087e-04 - val_loss: 0.0058 - 191ms/epoch - 11ms/step\n",
            "Epoch 40/50\n",
            "18/18 - 0s - loss: 1.5189e-04 - val_loss: 0.0032 - 192ms/epoch - 11ms/step\n",
            "Epoch 41/50\n",
            "18/18 - 0s - loss: 1.2754e-04 - val_loss: 0.0028 - 191ms/epoch - 11ms/step\n",
            "Epoch 42/50\n",
            "18/18 - 0s - loss: 1.2889e-04 - val_loss: 0.0023 - 314ms/epoch - 17ms/step\n",
            "Epoch 43/50\n",
            "18/18 - 0s - loss: 1.3503e-04 - val_loss: 0.0029 - 311ms/epoch - 17ms/step\n",
            "Epoch 44/50\n",
            "18/18 - 0s - loss: 1.2571e-04 - val_loss: 0.0041 - 307ms/epoch - 17ms/step\n",
            "Epoch 45/50\n",
            "18/18 - 0s - loss: 1.2119e-04 - val_loss: 0.0023 - 317ms/epoch - 18ms/step\n",
            "Epoch 46/50\n",
            "18/18 - 0s - loss: 1.2010e-04 - val_loss: 0.0035 - 444ms/epoch - 25ms/step\n",
            "Epoch 47/50\n",
            "18/18 - 0s - loss: 1.1551e-04 - val_loss: 0.0025 - 383ms/epoch - 21ms/step\n",
            "Epoch 48/50\n",
            "18/18 - 0s - loss: 1.4357e-04 - val_loss: 0.0026 - 353ms/epoch - 20ms/step\n",
            "Epoch 49/50\n",
            "18/18 - 0s - loss: 1.1542e-04 - val_loss: 0.0024 - 291ms/epoch - 16ms/step\n",
            "Epoch 50/50\n",
            "18/18 - 0s - loss: 1.1556e-04 - val_loss: 0.0048 - 428ms/epoch - 24ms/step\n"
          ]
        }
      ]
    },
    {
      "cell_type": "code",
      "source": [
        "trainPredict = model.predict(trainX)\n",
        "testPredict = model.predict(testX)\n",
        "trainPredict = scaler.inverse_transform(trainPredict)\n",
        "trainY = scaler.inverse_transform(trainY)\n",
        "testPredict = scaler.inverse_transform(testPredict)\n",
        "testY = scaler.inverse_transform(testY)\n",
        "trainScore = math.sqrt(mean_squared_error(trainY, trainPredict[:, 0]))\n",
        "print('Train Sccore %.2f RMSE' %(trainScore))\n",
        "testScore = math.sqrt(mean_squared_error(testY, testPredict[:, 0]))\n",
        "print('Train Sccore %.2f RMSE' %(testScore))"
      ],
      "metadata": {
        "colab": {
          "base_uri": "https://localhost:8080/"
        },
        "id": "TLGGkFfyPGn7",
        "outputId": "59a1aa6d-13c1-429a-d029-3f8ecd13cf1c"
      },
      "execution_count": 87,
      "outputs": [
        {
          "output_type": "stream",
          "name": "stdout",
          "text": [
            "38/38 [==============================] - 2s 4ms/step\n",
            "1/1 [==============================] - 2s 2s/step\n",
            "Train Sccore 6.01 RMSE\n",
            "Train Sccore 47.30 RMSE\n"
          ]
        }
      ]
    },
    {
      "cell_type": "code",
      "source": [
        "dataset = dataframe.values\n",
        "scaler = MinMaxScaler(feature_range=(0, 1))\n",
        "dataset = scaler.fit_transform(dataset.reshape(-1, 1))\n",
        "testY = dataset[-14:]\n",
        "testY = scaler.inverse_transform(testY)\n",
        "testX = dataset[-42:-28].reshape(1,14,1)\n",
        "# print(testX)\n",
        "testPres = []\n",
        "# testPredict = model.predict(testX)\n",
        "# print(testPredict)\n",
        "for i in range(28):\n",
        "  testPredict = model.predict(testX)\n",
        "  testX = np.append(testX[0][-13:],testPredict[0]).reshape(1,14,1)\n",
        "  testPredict = scaler.inverse_transform(testPredict)\n",
        "  testPres = np.append(testPres,testPredict)\n",
        "\n",
        "# testScore = math.sqrt(mean_squared_error(testY, testPredict[:, 0]))\n",
        "# print('Train Sccore %.2f RMSE' %(testScore))"
      ],
      "metadata": {
        "colab": {
          "base_uri": "https://localhost:8080/"
        },
        "id": "cnP-Z6FHPXgU",
        "outputId": "be0be499-54e6-4864-ef22-977d526027c9"
      },
      "execution_count": 88,
      "outputs": [
        {
          "output_type": "stream",
          "name": "stdout",
          "text": [
            "1/1 [==============================] - 0s 28ms/step\n",
            "1/1 [==============================] - 0s 36ms/step\n",
            "1/1 [==============================] - 0s 32ms/step\n",
            "1/1 [==============================] - 0s 31ms/step\n",
            "1/1 [==============================] - 0s 22ms/step\n",
            "1/1 [==============================] - 0s 19ms/step\n",
            "1/1 [==============================] - 0s 21ms/step\n",
            "1/1 [==============================] - 0s 20ms/step\n",
            "1/1 [==============================] - 0s 21ms/step\n",
            "1/1 [==============================] - 0s 20ms/step\n",
            "1/1 [==============================] - 0s 18ms/step\n",
            "1/1 [==============================] - 0s 19ms/step\n",
            "1/1 [==============================] - 0s 19ms/step\n",
            "1/1 [==============================] - 0s 21ms/step\n",
            "1/1 [==============================] - 0s 26ms/step\n",
            "1/1 [==============================] - 0s 21ms/step\n",
            "1/1 [==============================] - 0s 22ms/step\n",
            "1/1 [==============================] - 0s 19ms/step\n",
            "1/1 [==============================] - 0s 18ms/step\n",
            "1/1 [==============================] - 0s 18ms/step\n",
            "1/1 [==============================] - 0s 26ms/step\n",
            "1/1 [==============================] - 0s 19ms/step\n",
            "1/1 [==============================] - 0s 23ms/step\n",
            "1/1 [==============================] - 0s 20ms/step\n",
            "1/1 [==============================] - 0s 20ms/step\n",
            "1/1 [==============================] - 0s 19ms/step\n",
            "1/1 [==============================] - 0s 21ms/step\n",
            "1/1 [==============================] - 0s 23ms/step\n"
          ]
        }
      ]
    },
    {
      "cell_type": "code",
      "source": [
        "print(testPres[-14:])\n",
        "print(testY.reshape(-1,14))\n",
        "testScore = math.sqrt(mean_squared_error(testY, testPres[-14:].reshape(14,1)))\n",
        "print('Train Sccore %.2f RMSE' %(testScore))\n",
        "testPres_14 = testPres\n",
        "testScore_14 = testScore"
      ],
      "metadata": {
        "colab": {
          "base_uri": "https://localhost:8080/"
        },
        "id": "6Cev-1V-PmSI",
        "outputId": "7a7a9654-6577-4db0-9d32-d5fcd8b7bd51"
      },
      "execution_count": 89,
      "outputs": [
        {
          "output_type": "stream",
          "name": "stdout",
          "text": [
            "[85.00772858 83.06627655 81.1998291  79.43399048 77.77069855 76.20334625\n",
            " 74.72542572 73.33252716 72.02075195 70.78636169 69.62541962 68.53353882\n",
            " 67.50658417 66.54048157]\n",
            "[[200.179993 198.863998 200.356003 192.169998 197.195999 191.947998\n",
            "  201.869995 215.962006 223.925995 241.731995 274.31601  277.971985\n",
            "  273.175995 278.855988]]\n",
            "Train Sccore 156.57 RMSE\n"
          ]
        }
      ]
    },
    {
      "cell_type": "markdown",
      "source": [
        "###PLot with 1,7,14 days prediction"
      ],
      "metadata": {
        "id": "1bfNdZgnQmOh"
      }
    },
    {
      "cell_type": "code",
      "source": [
        "dataset = dataframe.values\n",
        "# print(testPres_1.shape)\n",
        "plt.plot(testPres_1,label = '1 day prediction after 1 day')\n",
        "plt.plot(np.arange(8,28),testPres_7[8:],label = '7 day prediction after 7 days')\n",
        "plt.plot(np.arange(15,28),testPres_14[15:],label = '14 day prediction after 14 days')\n",
        "plt.plot(dataset[-28:],label = 'True data')\n",
        "plt.legend()\n",
        "plt.show()"
      ],
      "metadata": {
        "colab": {
          "base_uri": "https://localhost:8080/",
          "height": 430
        },
        "id": "OKQ01ofrQjLM",
        "outputId": "333b2688-7f9b-4e8a-c6fc-3e5f5666dc51"
      },
      "execution_count": 102,
      "outputs": [
        {
          "output_type": "display_data",
          "data": {
            "text/plain": [
              "<Figure size 640x480 with 1 Axes>"
            ],
            "image/png": "[encoded data removed]"
          },
          "metadata": {}
        }
      ]
    },
    {
      "cell_type": "code",
      "source": [
        "plt.scatter(1,testScore_1)\n",
        "plt.scatter(7,testScore_7)\n",
        "plt.scatter(14,testScore_14)\n",
        "plt.text(1,testScore_1, \"1 days' prediction\", fontsize=12, ha='center', va='bottom')\n",
        "plt.text(7,testScore_7, \"7 days' prediction\", fontsize=12, ha='center', va='bottom')\n",
        "plt.text(14,testScore_14, \"14 days' prediction\", fontsize=12, ha='center', va='bottom')\n",
        "plt.xlabel(\"_days' prediction\")\n",
        "plt.ylabel('RMSE')\n",
        "plt.show()"
      ],
      "metadata": {
        "colab": {
          "base_uri": "https://localhost:8080/",
          "height": 452
        },
        "id": "w_URMTiMS3oL",
        "outputId": "81a477d5-fead-43bb-b615-5439ee848146"
      },
      "execution_count": 109,
      "outputs": [
        {
          "output_type": "display_data",
          "data": {
            "text/plain": [
              "<Figure size 640x480 with 1 Axes>"
            ],
            "image/png": "[encoded data removed]"
          },
          "metadata": {}
        }
      ]
    }
  ]
}